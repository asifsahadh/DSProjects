{
 "cells": [
  {
   "cell_type": "markdown",
   "metadata": {
    "id": "QvtD0SxEOPGe"
   },
   "source": [
    "# Telecommunication Industry Project"
   ]
  },
  {
   "cell_type": "markdown",
   "metadata": {},
   "source": [
    "The primary objective of this project is to explore a comprehensive Mobile Phone Dataset comprising 50 different mobile phones, each accompanied by its specifications. Using statistical techniques, the goal is to distill key characteristics that contribute to the desirability of these phones. The project aims to identify and extract the most significant features, thereby enabling the identification of the top-performing mobile phones within the dataset."
   ]
  },
  {
   "cell_type": "markdown",
   "metadata": {
    "id": "_pzTIrVbOcFF"
   },
   "source": [
    "**Dataset Columns Information**\n",
    "\n",
    "PID = a unique identifier for the phone model\n",
    "\n",
    "Blue = whether the phone has bluetooth support or not\n",
    "\n",
    "Wi_Fi = whether the phone has wifi support or not\n",
    "\n",
    "Tch_Scr = whether the phone has touch screen support or not\n",
    "\n",
    "Ext_Mem = whether the phone has external memory support or not\n",
    "\n",
    "Px_h = number of pixels in the vertical axis of the phone\n",
    "\n",
    "Px_w = number of pixels in the horizontal axis of the phone\n",
    "\n",
    "Scr_h = height of the screen of the phone in centimetres (cm)\n",
    "\n",
    "Scr_w = width of the screen of the phone in centimetres (cm)\n",
    "\n",
    "Int_Mem = internal memory of the phone measured in megabytes (MB)\n",
    "\n",
    "Bty_Pwr = maximum energy stored by the phone's battery measured in \n",
    "milli-Ampere-hours (mAh)\n",
    "\n",
    "PC = resolution of the primary camera measued in megapixels (MP)\n",
    "\n",
    "FC = resolution of the front camera measued in megapixels (MP)\n",
    "\n",
    "RAM = random access memory available in the phone measured in gigabytes (GB)\n",
    "\n",
    "Depth = depth of the mobile phone measured in centimetres (cm)\n",
    "\n",
    "Weight = weight of the mobile phone measured in grams (g)\n",
    "\n",
    "Price = selling price of the mobile phone in rupees"
   ]
  },
  {
   "cell_type": "markdown",
   "metadata": {
    "id": "YCLhIkwFO4Tj"
   },
   "source": [
    "**Import Libraries**"
   ]
  },
  {
   "cell_type": "code",
   "execution_count": 1,
   "metadata": {
    "id": "z9ZS2Tw2N857"
   },
   "outputs": [
    {
     "name": "stderr",
     "output_type": "stream",
     "text": [
      "C:\\Users\\asifs\\anaconda3\\lib\\site-packages\\scipy\\__init__.py:146: UserWarning: A NumPy version >=1.16.5 and <1.23.0 is required for this version of SciPy (detected version 1.26.2\n",
      "  warnings.warn(f\"A NumPy version >={np_minversion} and <{np_maxversion}\"\n"
     ]
    }
   ],
   "source": [
    "import pandas as pd\n",
    "import numpy as np\n",
    "import matplotlib.pyplot as plt\n",
    "import seaborn as sns\n",
    "sns.set_theme(style = 'white')"
   ]
  },
  {
   "cell_type": "markdown",
   "metadata": {
    "id": "7rdvm8PDPCgM"
   },
   "source": [
    "**Load Dataset**"
   ]
  },
  {
   "cell_type": "code",
   "execution_count": 2,
   "metadata": {
    "id": "7p5Rg_AkN858"
   },
   "outputs": [],
   "source": [
    "df = pd.read_csv(r\"C:\\Users\\asifs\\Desktop\\DS Projects\\Assignments\\Telecom Dataset.csv\")"
   ]
  },
  {
   "cell_type": "markdown",
   "metadata": {},
   "source": [
    "### **EDA**"
   ]
  },
  {
   "cell_type": "code",
   "execution_count": 3,
   "metadata": {
    "id": "WdfT3N-iN859"
   },
   "outputs": [
    {
     "data": {
      "text/html": [
       "<div>\n",
       "<style scoped>\n",
       "    .dataframe tbody tr th:only-of-type {\n",
       "        vertical-align: middle;\n",
       "    }\n",
       "\n",
       "    .dataframe tbody tr th {\n",
       "        vertical-align: top;\n",
       "    }\n",
       "\n",
       "    .dataframe thead th {\n",
       "        text-align: right;\n",
       "    }\n",
       "</style>\n",
       "<table border=\"1\" class=\"dataframe\">\n",
       "  <thead>\n",
       "    <tr style=\"text-align: right;\">\n",
       "      <th></th>\n",
       "      <th>PID</th>\n",
       "      <th>Blue</th>\n",
       "      <th>Wi_Fi</th>\n",
       "      <th>Tch_Scr</th>\n",
       "      <th>Ext_Mem</th>\n",
       "      <th>Px_h</th>\n",
       "      <th>Px_w</th>\n",
       "      <th>Scr_h</th>\n",
       "      <th>Scr_w</th>\n",
       "      <th>PC</th>\n",
       "      <th>FC</th>\n",
       "      <th>Int_Mem</th>\n",
       "      <th>Bty_Pwr</th>\n",
       "      <th>RAM</th>\n",
       "      <th>Depth</th>\n",
       "      <th>Weight</th>\n",
       "      <th>Price</th>\n",
       "    </tr>\n",
       "  </thead>\n",
       "  <tbody>\n",
       "    <tr>\n",
       "      <th>0</th>\n",
       "      <td>AAB346A</td>\n",
       "      <td>yes</td>\n",
       "      <td>yes</td>\n",
       "      <td>no</td>\n",
       "      <td>no</td>\n",
       "      <td>780</td>\n",
       "      <td>460</td>\n",
       "      <td>3</td>\n",
       "      <td>1</td>\n",
       "      <td>2</td>\n",
       "      <td>2</td>\n",
       "      <td>8</td>\n",
       "      <td>2800</td>\n",
       "      <td>2</td>\n",
       "      <td>7</td>\n",
       "      <td>320</td>\n",
       "      <td>3297</td>\n",
       "    </tr>\n",
       "    <tr>\n",
       "      <th>1</th>\n",
       "      <td>AAC347I</td>\n",
       "      <td>yes</td>\n",
       "      <td>yes</td>\n",
       "      <td>no</td>\n",
       "      <td>no</td>\n",
       "      <td>780</td>\n",
       "      <td>560</td>\n",
       "      <td>2</td>\n",
       "      <td>1</td>\n",
       "      <td>4</td>\n",
       "      <td>2</td>\n",
       "      <td>8</td>\n",
       "      <td>3000</td>\n",
       "      <td>2</td>\n",
       "      <td>7</td>\n",
       "      <td>280</td>\n",
       "      <td>4500</td>\n",
       "    </tr>\n",
       "    <tr>\n",
       "      <th>2</th>\n",
       "      <td>BAB657J</td>\n",
       "      <td>no</td>\n",
       "      <td>yes</td>\n",
       "      <td>no</td>\n",
       "      <td>no</td>\n",
       "      <td>840</td>\n",
       "      <td>720</td>\n",
       "      <td>2</td>\n",
       "      <td>1</td>\n",
       "      <td>4</td>\n",
       "      <td>2</td>\n",
       "      <td>8</td>\n",
       "      <td>3300</td>\n",
       "      <td>2</td>\n",
       "      <td>7</td>\n",
       "      <td>400</td>\n",
       "      <td>4898</td>\n",
       "    </tr>\n",
       "    <tr>\n",
       "      <th>3</th>\n",
       "      <td>BBD456K</td>\n",
       "      <td>no</td>\n",
       "      <td>yes</td>\n",
       "      <td>yes</td>\n",
       "      <td>no</td>\n",
       "      <td>1280</td>\n",
       "      <td>1120</td>\n",
       "      <td>5</td>\n",
       "      <td>3</td>\n",
       "      <td>6</td>\n",
       "      <td>2</td>\n",
       "      <td>32</td>\n",
       "      <td>3000</td>\n",
       "      <td>2</td>\n",
       "      <td>3</td>\n",
       "      <td>300</td>\n",
       "      <td>6900</td>\n",
       "    </tr>\n",
       "    <tr>\n",
       "      <th>4</th>\n",
       "      <td>CCP761U</td>\n",
       "      <td>no</td>\n",
       "      <td>yes</td>\n",
       "      <td>yes</td>\n",
       "      <td>no</td>\n",
       "      <td>1280</td>\n",
       "      <td>1080</td>\n",
       "      <td>4</td>\n",
       "      <td>3</td>\n",
       "      <td>6</td>\n",
       "      <td>2</td>\n",
       "      <td>16</td>\n",
       "      <td>3000</td>\n",
       "      <td>2</td>\n",
       "      <td>3</td>\n",
       "      <td>210</td>\n",
       "      <td>5600</td>\n",
       "    </tr>\n",
       "  </tbody>\n",
       "</table>\n",
       "</div>"
      ],
      "text/plain": [
       "       PID Blue Wi_Fi Tch_Scr Ext_Mem  Px_h  Px_w  Scr_h  Scr_w  PC  FC  \\\n",
       "0  AAB346A  yes   yes      no      no   780   460      3      1   2   2   \n",
       "1  AAC347I  yes   yes      no      no   780   560      2      1   4   2   \n",
       "2  BAB657J   no   yes      no      no   840   720      2      1   4   2   \n",
       "3  BBD456K   no   yes     yes      no  1280  1120      5      3   6   2   \n",
       "4  CCP761U   no   yes     yes      no  1280  1080      4      3   6   2   \n",
       "\n",
       "   Int_Mem  Bty_Pwr  RAM  Depth  Weight  Price  \n",
       "0        8     2800    2      7     320   3297  \n",
       "1        8     3000    2      7     280   4500  \n",
       "2        8     3300    2      7     400   4898  \n",
       "3       32     3000    2      3     300   6900  \n",
       "4       16     3000    2      3     210   5600  "
      ]
     },
     "execution_count": 3,
     "metadata": {},
     "output_type": "execute_result"
    }
   ],
   "source": [
    "df.head(5)"
   ]
  },
  {
   "cell_type": "code",
   "execution_count": 4,
   "metadata": {
    "id": "0jdoVTnIN85_"
   },
   "outputs": [
    {
     "data": {
      "text/plain": [
       "(50, 17)"
      ]
     },
     "execution_count": 4,
     "metadata": {},
     "output_type": "execute_result"
    }
   ],
   "source": [
    "df.shape"
   ]
  },
  {
   "cell_type": "code",
   "execution_count": 5,
   "metadata": {
    "id": "y28qZAzdN86B"
   },
   "outputs": [
    {
     "data": {
      "text/plain": [
       "RangeIndex(start=0, stop=50, step=1)"
      ]
     },
     "execution_count": 5,
     "metadata": {},
     "output_type": "execute_result"
    }
   ],
   "source": [
    "df.index"
   ]
  },
  {
   "cell_type": "code",
   "execution_count": 6,
   "metadata": {
    "id": "u3wUbIm7N86C"
   },
   "outputs": [
    {
     "data": {
      "text/plain": [
       "Index(['PID', 'Blue', 'Wi_Fi', 'Tch_Scr', 'Ext_Mem', 'Px_h', 'Px_w', 'Scr_h',\n",
       "       'Scr_w', 'PC', 'FC', 'Int_Mem', 'Bty_Pwr', 'RAM', 'Depth', 'Weight',\n",
       "       'Price'],\n",
       "      dtype='object')"
      ]
     },
     "execution_count": 6,
     "metadata": {},
     "output_type": "execute_result"
    }
   ],
   "source": [
    "df.columns"
   ]
  },
  {
   "cell_type": "code",
   "execution_count": 7,
   "metadata": {
    "id": "zoJdOWbKN86D"
   },
   "outputs": [
    {
     "name": "stdout",
     "output_type": "stream",
     "text": [
      "<class 'pandas.core.frame.DataFrame'>\n",
      "RangeIndex: 50 entries, 0 to 49\n",
      "Data columns (total 17 columns):\n",
      " #   Column   Non-Null Count  Dtype \n",
      "---  ------   --------------  ----- \n",
      " 0   PID      50 non-null     object\n",
      " 1   Blue     50 non-null     object\n",
      " 2   Wi_Fi    50 non-null     object\n",
      " 3   Tch_Scr  50 non-null     object\n",
      " 4   Ext_Mem  50 non-null     object\n",
      " 5   Px_h     50 non-null     int64 \n",
      " 6   Px_w     50 non-null     int64 \n",
      " 7   Scr_h    50 non-null     int64 \n",
      " 8   Scr_w    50 non-null     int64 \n",
      " 9   PC       50 non-null     int64 \n",
      " 10  FC       50 non-null     int64 \n",
      " 11  Int_Mem  50 non-null     int64 \n",
      " 12  Bty_Pwr  50 non-null     int64 \n",
      " 13  RAM      50 non-null     int64 \n",
      " 14  Depth    50 non-null     int64 \n",
      " 15  Weight   50 non-null     int64 \n",
      " 16  Price    50 non-null     int64 \n",
      "dtypes: int64(12), object(5)\n",
      "memory usage: 6.8+ KB\n"
     ]
    }
   ],
   "source": [
    "df.info()"
   ]
  },
  {
   "cell_type": "markdown",
   "metadata": {
    "id": "Yp1sfFKKQQLR"
   },
   "source": [
    "**Observations**\n",
    "\n",
    "There are 50 phones in the data set.\n",
    "\n",
    "There are 17 features in the data set including the \"PID\" feature which is used as the row index labels.\n",
    "\n",
    "There are no missing values in the data set."
   ]
  },
  {
   "cell_type": "markdown",
   "metadata": {
    "id": "zBarC8WVQZG7"
   },
   "source": [
    "### **Feature Engineering**"
   ]
  },
  {
   "cell_type": "markdown",
   "metadata": {},
   "source": [
    "**Create a Feature specifying if the Phone has Bluetooth, WiFi, Touchscreen and External Memory Support**"
   ]
  },
  {
   "cell_type": "code",
   "execution_count": 8,
   "metadata": {
    "id": "RAV76P19N86G"
   },
   "outputs": [
    {
     "data": {
      "text/html": [
       "<div>\n",
       "<style scoped>\n",
       "    .dataframe tbody tr th:only-of-type {\n",
       "        vertical-align: middle;\n",
       "    }\n",
       "\n",
       "    .dataframe tbody tr th {\n",
       "        vertical-align: top;\n",
       "    }\n",
       "\n",
       "    .dataframe thead th {\n",
       "        text-align: right;\n",
       "    }\n",
       "</style>\n",
       "<table border=\"1\" class=\"dataframe\">\n",
       "  <thead>\n",
       "    <tr style=\"text-align: right;\">\n",
       "      <th></th>\n",
       "      <th>Blue</th>\n",
       "      <th>Wi_Fi</th>\n",
       "      <th>Tch_Scr</th>\n",
       "      <th>Ext_Mem</th>\n",
       "    </tr>\n",
       "  </thead>\n",
       "  <tbody>\n",
       "    <tr>\n",
       "      <th>0</th>\n",
       "      <td>yes</td>\n",
       "      <td>yes</td>\n",
       "      <td>no</td>\n",
       "      <td>no</td>\n",
       "    </tr>\n",
       "    <tr>\n",
       "      <th>1</th>\n",
       "      <td>yes</td>\n",
       "      <td>yes</td>\n",
       "      <td>no</td>\n",
       "      <td>no</td>\n",
       "    </tr>\n",
       "    <tr>\n",
       "      <th>2</th>\n",
       "      <td>no</td>\n",
       "      <td>yes</td>\n",
       "      <td>no</td>\n",
       "      <td>no</td>\n",
       "    </tr>\n",
       "    <tr>\n",
       "      <th>3</th>\n",
       "      <td>no</td>\n",
       "      <td>yes</td>\n",
       "      <td>yes</td>\n",
       "      <td>no</td>\n",
       "    </tr>\n",
       "    <tr>\n",
       "      <th>4</th>\n",
       "      <td>no</td>\n",
       "      <td>yes</td>\n",
       "      <td>yes</td>\n",
       "      <td>no</td>\n",
       "    </tr>\n",
       "  </tbody>\n",
       "</table>\n",
       "</div>"
      ],
      "text/plain": [
       "  Blue Wi_Fi Tch_Scr Ext_Mem\n",
       "0  yes   yes      no      no\n",
       "1  yes   yes      no      no\n",
       "2   no   yes      no      no\n",
       "3   no   yes     yes      no\n",
       "4   no   yes     yes      no"
      ]
     },
     "execution_count": 8,
     "metadata": {},
     "output_type": "execute_result"
    }
   ],
   "source": [
    "df[['Blue', 'Wi_Fi', 'Tch_Scr', 'Ext_Mem']].head()"
   ]
  },
  {
   "cell_type": "code",
   "execution_count": 9,
   "metadata": {
    "id": "8N-jff5hN86I"
   },
   "outputs": [],
   "source": [
    "df['con1'] = (df['Blue'] == 'yes') & (df['Wi_Fi'] == 'yes') & (df['Tch_Scr'] == 'yes') & (df['Ext_Mem'] == 'yes')"
   ]
  },
  {
   "cell_type": "markdown",
   "metadata": {
    "id": "n8qZScOZQsj3"
   },
   "source": [
    "**Create a Feature which specifies the Screen Resolution**"
   ]
  },
  {
   "cell_type": "code",
   "execution_count": 10,
   "metadata": {
    "id": "UgpsX9ZYN86M"
   },
   "outputs": [
    {
     "data": {
      "text/html": [
       "<div>\n",
       "<style scoped>\n",
       "    .dataframe tbody tr th:only-of-type {\n",
       "        vertical-align: middle;\n",
       "    }\n",
       "\n",
       "    .dataframe tbody tr th {\n",
       "        vertical-align: top;\n",
       "    }\n",
       "\n",
       "    .dataframe thead th {\n",
       "        text-align: right;\n",
       "    }\n",
       "</style>\n",
       "<table border=\"1\" class=\"dataframe\">\n",
       "  <thead>\n",
       "    <tr style=\"text-align: right;\">\n",
       "      <th></th>\n",
       "      <th>Px_h</th>\n",
       "      <th>Px_w</th>\n",
       "    </tr>\n",
       "  </thead>\n",
       "  <tbody>\n",
       "    <tr>\n",
       "      <th>0</th>\n",
       "      <td>780</td>\n",
       "      <td>460</td>\n",
       "    </tr>\n",
       "    <tr>\n",
       "      <th>1</th>\n",
       "      <td>780</td>\n",
       "      <td>560</td>\n",
       "    </tr>\n",
       "    <tr>\n",
       "      <th>2</th>\n",
       "      <td>840</td>\n",
       "      <td>720</td>\n",
       "    </tr>\n",
       "    <tr>\n",
       "      <th>3</th>\n",
       "      <td>1280</td>\n",
       "      <td>1120</td>\n",
       "    </tr>\n",
       "    <tr>\n",
       "      <th>4</th>\n",
       "      <td>1280</td>\n",
       "      <td>1080</td>\n",
       "    </tr>\n",
       "  </tbody>\n",
       "</table>\n",
       "</div>"
      ],
      "text/plain": [
       "   Px_h  Px_w\n",
       "0   780   460\n",
       "1   780   560\n",
       "2   840   720\n",
       "3  1280  1120\n",
       "4  1280  1080"
      ]
     },
     "execution_count": 10,
     "metadata": {},
     "output_type": "execute_result"
    }
   ],
   "source": [
    "df[['Px_h', 'Px_w']].head()"
   ]
  },
  {
   "cell_type": "code",
   "execution_count": 11,
   "metadata": {
    "id": "9g8VvPLiN86O"
   },
   "outputs": [],
   "source": [
    "df['Px'] = df['Px_h'] * df['Px_w']"
   ]
  },
  {
   "cell_type": "code",
   "execution_count": 12,
   "metadata": {
    "id": "nbYsIHpjN86P"
   },
   "outputs": [
    {
     "data": {
      "image/png": "[encoded data removed]",
      "text/plain": [
       "<Figure size 576x432 with 1 Axes>"
      ]
     },
     "metadata": {},
     "output_type": "display_data"
    }
   ],
   "source": [
    "mean = df['Px'].mean()\n",
    "median = df['Px'].median()\n",
    "\n",
    "plt.figure(figsize = (8, 6))\n",
    "sns.histplot(data = df, x = 'Px', color = '#005090', edgecolor = 'black', bins = 25)\n",
    "plt.title('Histogram for Pixels')\n",
    "plt.xlabel('Screen Resolution')\n",
    "plt.ylabel('Number of Devices')\n",
    "plt.vlines(mean, ymin = 0, ymax = 14, color = 'black', label = 'Mean')\n",
    "plt.vlines(median, ymin = 0, ymax = 14, color = 'red', label = 'Median')\n",
    "plt.legend()\n",
    "plt.show()"
   ]
  },
  {
   "cell_type": "markdown",
   "metadata": {},
   "source": [
    "**Create a Feature which specifies if the Phone has a High Resolution Display**"
   ]
  },
  {
   "cell_type": "code",
   "execution_count": 13,
   "metadata": {},
   "outputs": [],
   "source": [
    "df['con2'] = df['Px'] > mean"
   ]
  },
  {
   "cell_type": "markdown",
   "metadata": {
    "id": "ih3ev8-0RJg5"
   },
   "source": [
    "**Create a Feature which stores the Phone Display Size**"
   ]
  },
  {
   "cell_type": "code",
   "execution_count": 14,
   "metadata": {
    "id": "qTOcx3FCN86U"
   },
   "outputs": [],
   "source": [
    "df['Scr_d'] = np.sqrt((df['Scr_h']**2) + (df['Scr_w']**2))"
   ]
  },
  {
   "cell_type": "code",
   "execution_count": 15,
   "metadata": {},
   "outputs": [
    {
     "name": "stderr",
     "output_type": "stream",
     "text": [
      "C:\\Users\\asifs\\anaconda3\\lib\\site-packages\\seaborn\\_decorators.py:36: FutureWarning: Pass the following variable as a keyword arg: x. From version 0.12, the only valid positional argument will be `data`, and passing other arguments without an explicit keyword will result in an error or misinterpretation.\n",
      "  warnings.warn(\n"
     ]
    },
    {
     "data": {
      "image/png": "[encoded data removed]",
      "text/plain": [
       "<Figure size 576x432 with 1 Axes>"
      ]
     },
     "metadata": {},
     "output_type": "display_data"
    }
   ],
   "source": [
    "# Box plot for Screen size\n",
    "plt.figure(figsize = (8, 6))\n",
    "sns.boxplot(df['Scr_d'], color = '#678D58')\n",
    "plt.title('Boxplot for Screen Size')\n",
    "plt.xlabel('Screen Size')\n",
    "plt.show()"
   ]
  },
  {
   "cell_type": "code",
   "execution_count": 16,
   "metadata": {
    "id": "83gzdEN7N86U"
   },
   "outputs": [
    {
     "data": {
      "image/png": "[encoded data removed]",
      "text/plain": [
       "<Figure size 576x432 with 1 Axes>"
      ]
     },
     "metadata": {},
     "output_type": "display_data"
    }
   ],
   "source": [
    "# Histogram of the \"Scr_d\" feature and its quartiles\n",
    "\n",
    "Scr_d_list = df['Scr_d'].sort_values(ascending = True)\n",
    "Q1 = np.percentile(Scr_d_list, 25)\n",
    "Q3 = np.percentile(Scr_d_list, 75)\n",
    "\n",
    "plt.figure(figsize = (8, 6))\n",
    "sns.histplot(data = df, x = 'Scr_d', color = '#005090', edgecolor = 'black', bins = 25)\n",
    "plt.title('Histogram for Screen Size')\n",
    "plt.vlines(Q1, color = 'red', label = 'Q1', ymin = 0, ymax = 20)\n",
    "plt.vlines(Q3, color = 'black', label = 'Q3', ymin = 0, ymax = 20)\n",
    "plt.legend()\n",
    "plt.show()"
   ]
  },
  {
   "cell_type": "markdown",
   "metadata": {},
   "source": [
    "**Create a Feature which specifies if the Phone has a large Screen Size**"
   ]
  },
  {
   "cell_type": "code",
   "execution_count": 17,
   "metadata": {
    "id": "aEvL_TPSN86V"
   },
   "outputs": [],
   "source": [
    "df['con3'] = df['Scr_d'] >= Q3 "
   ]
  },
  {
   "cell_type": "markdown",
   "metadata": {
    "id": "21dZEsZRRikD"
   },
   "source": [
    "**Create a Feature which specifies if the Phone has a Large Camera Megapixel Count**"
   ]
  },
  {
   "cell_type": "code",
   "execution_count": 52,
   "metadata": {
    "id": "KtH-XWmqN86Z"
   },
   "outputs": [
    {
     "data": {
      "image/png": "[encoded data removed]",
      "text/plain": [
       "<Figure size 576x432 with 1 Axes>"
      ]
     },
     "metadata": {},
     "output_type": "display_data"
    }
   ],
   "source": [
    "# Histogram of the \"PC\" feature and its mean and median\n",
    "\n",
    "mean_pc = df['PC'].mean()\n",
    "median_pc = df['PC'].median()\n",
    "\n",
    "plt.figure(figsize = (8, 6))\n",
    "sns.histplot(df['PC'], color = '#556B2F', edgecolor = 'black', bins = 25)\n",
    "plt.title('Histogram for PC')\n",
    "plt.vlines(mean_pc, color = 'black', ymin = 0, ymax = 21)\n",
    "plt.vlines(median_pc, color = 'red', ymin = 0, ymax = 21)\n",
    "plt.show()"
   ]
  },
  {
   "cell_type": "code",
   "execution_count": 19,
   "metadata": {
    "id": "vMp3OWR0N86a"
   },
   "outputs": [
    {
     "data": {
      "image/png": "[encoded data removed]",
      "text/plain": [
       "<Figure size 576x432 with 1 Axes>"
      ]
     },
     "metadata": {},
     "output_type": "display_data"
    }
   ],
   "source": [
    "# Histogram of the \"FC\" feature and its mean and median\n",
    "\n",
    "mean_fc = df['FC'].mean()\n",
    "median_fc = df['FC'].median()\n",
    "\n",
    "plt.figure(figsize = (8, 6))\n",
    "sns.histplot(df['FC'], color = '#005090', edgecolor = 'black', bins = 25)\n",
    "plt.title('Histogram for FC')\n",
    "plt.vlines(mean_fc, color = 'black', ymin = 0, ymax = 20)\n",
    "plt.vlines(median_fc, color = 'red', ymin = 0, ymax = 20)\n",
    "plt.show()"
   ]
  },
  {
   "cell_type": "code",
   "execution_count": 20,
   "metadata": {
    "id": "uwOY8IGoN86a"
   },
   "outputs": [],
   "source": [
    "df['con4'] = (df['PC'] > mean_pc) & (df['FC'] > mean_fc)"
   ]
  },
  {
   "cell_type": "markdown",
   "metadata": {
    "id": "iu0E_MTAR3Pn"
   },
   "source": [
    "**Create a Feature which specifies if the Phone has a Large Internal Memory, Battery Power and RAM**"
   ]
  },
  {
   "cell_type": "code",
   "execution_count": 51,
   "metadata": {
    "id": "YMBT6fVEN86e"
   },
   "outputs": [
    {
     "data": {
      "image/png": "[encoded data removed]",
      "text/plain": [
       "<Figure size 576x432 with 1 Axes>"
      ]
     },
     "metadata": {},
     "output_type": "display_data"
    }
   ],
   "source": [
    "# Histogram of the \"Int_Mem\" feature and its mean and median\n",
    "\n",
    "mean_im = df['Int_Mem'].mean()\n",
    "median_im = df['Int_Mem'].median()\n",
    "\n",
    "plt.figure(figsize = (8, 6))\n",
    "sns.histplot(df['Int_Mem'], color = '#556B2F', edgecolor = 'black', bins = 25)\n",
    "plt.vlines(mean_im, color = 'black', ymin = 0, ymax = 20, label = 'Mean')\n",
    "plt.vlines(median_im, color = 'red', ymin = 0, ymax = 20, label = 'Median')\n",
    "plt.title('Histogram for Int_Mem')\n",
    "plt.legend()\n",
    "plt.show()"
   ]
  },
  {
   "cell_type": "code",
   "execution_count": 22,
   "metadata": {
    "id": "oPjFp16vN86e"
   },
   "outputs": [
    {
     "data": {
      "image/png": "[encoded data removed]",
      "text/plain": [
       "<Figure size 576x432 with 1 Axes>"
      ]
     },
     "metadata": {},
     "output_type": "display_data"
    }
   ],
   "source": [
    "# Create a histogram of the \"Bty_Pwr\" feature and its mean and median\n",
    "\n",
    "mean_bp = df['Bty_Pwr'].mean()\n",
    "median_bp = df['Bty_Pwr'].median()\n",
    "\n",
    "plt.figure(figsize = (8, 6))\n",
    "sns.histplot(df['Bty_Pwr'], color = '#005090', edgecolor = 'black', bins = 25)\n",
    "plt.vlines(mean_bp, color = 'black', ymin = 0, ymax = 20, label = 'Mean')\n",
    "plt.vlines(median_bp, color = 'red', ymin = 0, ymax = 20, label = 'Median')\n",
    "plt.title('Histogram for Bty_Pwr')\n",
    "plt.legend()\n",
    "plt.show()"
   ]
  },
  {
   "cell_type": "code",
   "execution_count": 50,
   "metadata": {
    "id": "TS83YmlQN86f"
   },
   "outputs": [
    {
     "data": {
      "image/png": "[encoded data removed]",
      "text/plain": [
       "<Figure size 576x432 with 1 Axes>"
      ]
     },
     "metadata": {},
     "output_type": "display_data"
    }
   ],
   "source": [
    "# Create a histogram of the \"RAM\" feature and its mean and median\n",
    "\n",
    "mean_r = df['RAM'].mean()\n",
    "median_r = df['RAM'].median()\n",
    "\n",
    "plt.figure(figsize = (8, 6))\n",
    "sns.histplot(df['RAM'], color = '#556B2F', edgecolor = 'black', bins = 25)\n",
    "plt.vlines(mean_r, color = 'black', ymin = 0, ymax = 19, label = 'Mean')\n",
    "plt.vlines(median_r, color = 'red', ymin = 0, ymax = 19, label = 'Median')\n",
    "plt.title('Histogram for RAM')\n",
    "plt.legend()\n",
    "plt.show()"
   ]
  },
  {
   "cell_type": "code",
   "execution_count": 24,
   "metadata": {
    "id": "Ty-VGMoDN86g"
   },
   "outputs": [],
   "source": [
    "df['con5'] = (df['Int_Mem'] > median_im) & (df['Bty_Pwr'] > median_bp) & (df['RAM'] > median_r)"
   ]
  },
  {
   "cell_type": "markdown",
   "metadata": {
    "id": "VVeYghyESO9y"
   },
   "source": [
    "**Create a Feature which specifies if the Phone has a Low Weight and Depth**"
   ]
  },
  {
   "cell_type": "code",
   "execution_count": 25,
   "metadata": {
    "id": "e88FFbusN86k"
   },
   "outputs": [
    {
     "data": {
      "image/png": "[encoded data removed]",
      "text/plain": [
       "<Figure size 576x432 with 1 Axes>"
      ]
     },
     "metadata": {},
     "output_type": "display_data"
    }
   ],
   "source": [
    "# Create a histogram of the \"Depth\" feature and its mean and median\n",
    "\n",
    "mean_d = df['Depth'].mean()\n",
    "median_d = df['Depth'].median()\n",
    "\n",
    "plt.figure(figsize = (8, 6))\n",
    "sns.histplot(df['Depth'], color = '#005090', edgecolor = 'black', bins = 25)\n",
    "plt.vlines(mean_d, color = 'black', ymin = 0, ymax = 32, label = 'Mean')\n",
    "plt.vlines(median_d, color = 'red', ymin = 0, ymax = 32, label = 'Median')\n",
    "plt.title('Histogram for Depth')\n",
    "plt.legend()\n",
    "plt.show()"
   ]
  },
  {
   "cell_type": "code",
   "execution_count": 26,
   "metadata": {
    "id": "-lXTqLttN86l"
   },
   "outputs": [
    {
     "data": {
      "image/png": "[encoded data removed]",
      "text/plain": [
       "<Figure size 576x432 with 1 Axes>"
      ]
     },
     "metadata": {},
     "output_type": "display_data"
    }
   ],
   "source": [
    "# Create a histogram of the \"Weight\" feature and its mean and median\n",
    "\n",
    "mean_w = df['Weight'].mean()\n",
    "median_w = df['Weight'].median()\n",
    "\n",
    "plt.figure(figsize = (8, 6))\n",
    "sns.histplot(df['Weight'], color = '#556B2F', edgecolor = 'black', bins = 25)\n",
    "plt.vlines(mean_w, color = 'black', ymin = 0, ymax = 6.5, label = 'Mean')\n",
    "plt.vlines(median_w, color = 'red', ymin = 0, ymax = 6.5, label = 'Median')\n",
    "plt.title('Histogram for Weight')\n",
    "plt.legend()\n",
    "plt.show()"
   ]
  },
  {
   "cell_type": "code",
   "execution_count": 27,
   "metadata": {
    "id": "7ZYJmwzJN86l"
   },
   "outputs": [],
   "source": [
    "df['con6'] = (df['Depth'] < mean_d) & (df['Weight'] < mean_w)"
   ]
  },
  {
   "cell_type": "markdown",
   "metadata": {
    "id": "3UYMHQseSjZp"
   },
   "source": [
    "**Create a Subset for the New Features**"
   ]
  },
  {
   "cell_type": "code",
   "execution_count": 42,
   "metadata": {
    "id": "iKFweH2xN86o"
   },
   "outputs": [],
   "source": [
    "# Store the subset of the dataframe as a new dataframe called \"df1\"\n",
    "\n",
    "df1 = df[['PID', 'con1', 'con2', 'con3', 'con4', 'con5', 'con6', 'Price']]"
   ]
  },
  {
   "cell_type": "code",
   "execution_count": 43,
   "metadata": {
    "id": "Y0Bp7BKkN86o"
   },
   "outputs": [
    {
     "data": {
      "text/plain": [
       "(50, 8)"
      ]
     },
     "execution_count": 43,
     "metadata": {},
     "output_type": "execute_result"
    }
   ],
   "source": [
    "# Dimensions of the new dataframe\n",
    "\n",
    "df1.shape"
   ]
  },
  {
   "cell_type": "code",
   "execution_count": 45,
   "metadata": {
    "id": "H5tg2OEkN86p"
   },
   "outputs": [
    {
     "name": "stderr",
     "output_type": "stream",
     "text": [
      "C:\\Users\\asifs\\anaconda3\\lib\\site-packages\\pandas\\util\\_decorators.py:311: SettingWithCopyWarning: \n",
      "A value is trying to be set on a copy of a slice from a DataFrame\n",
      "\n",
      "See the caveats in the documentation: https://pandas.pydata.org/pandas-docs/stable/user_guide/indexing.html#returning-a-view-versus-a-copy\n",
      "  return func(*args, **kwargs)\n"
     ]
    },
    {
     "data": {
      "text/html": [
       "<div>\n",
       "<style scoped>\n",
       "    .dataframe tbody tr th:only-of-type {\n",
       "        vertical-align: middle;\n",
       "    }\n",
       "\n",
       "    .dataframe tbody tr th {\n",
       "        vertical-align: top;\n",
       "    }\n",
       "\n",
       "    .dataframe thead th {\n",
       "        text-align: right;\n",
       "    }\n",
       "</style>\n",
       "<table border=\"1\" class=\"dataframe\">\n",
       "  <thead>\n",
       "    <tr style=\"text-align: right;\">\n",
       "      <th></th>\n",
       "      <th>PID</th>\n",
       "      <th>con1</th>\n",
       "      <th>con2</th>\n",
       "      <th>con3</th>\n",
       "      <th>con4</th>\n",
       "      <th>con5</th>\n",
       "      <th>con6</th>\n",
       "      <th>Price</th>\n",
       "    </tr>\n",
       "  </thead>\n",
       "  <tbody>\n",
       "    <tr>\n",
       "      <th>0</th>\n",
       "      <td>AAB346A</td>\n",
       "      <td>False</td>\n",
       "      <td>False</td>\n",
       "      <td>False</td>\n",
       "      <td>False</td>\n",
       "      <td>False</td>\n",
       "      <td>False</td>\n",
       "      <td>3297</td>\n",
       "    </tr>\n",
       "    <tr>\n",
       "      <th>1</th>\n",
       "      <td>AAC347I</td>\n",
       "      <td>False</td>\n",
       "      <td>False</td>\n",
       "      <td>False</td>\n",
       "      <td>False</td>\n",
       "      <td>False</td>\n",
       "      <td>False</td>\n",
       "      <td>4500</td>\n",
       "    </tr>\n",
       "    <tr>\n",
       "      <th>2</th>\n",
       "      <td>BAB657J</td>\n",
       "      <td>False</td>\n",
       "      <td>False</td>\n",
       "      <td>False</td>\n",
       "      <td>False</td>\n",
       "      <td>False</td>\n",
       "      <td>False</td>\n",
       "      <td>4898</td>\n",
       "    </tr>\n",
       "    <tr>\n",
       "      <th>5</th>\n",
       "      <td>CCQ674K</td>\n",
       "      <td>False</td>\n",
       "      <td>False</td>\n",
       "      <td>False</td>\n",
       "      <td>False</td>\n",
       "      <td>False</td>\n",
       "      <td>False</td>\n",
       "      <td>4990</td>\n",
       "    </tr>\n",
       "    <tr>\n",
       "      <th>4</th>\n",
       "      <td>CCP761U</td>\n",
       "      <td>False</td>\n",
       "      <td>False</td>\n",
       "      <td>False</td>\n",
       "      <td>False</td>\n",
       "      <td>False</td>\n",
       "      <td>False</td>\n",
       "      <td>5600</td>\n",
       "    </tr>\n",
       "    <tr>\n",
       "      <th>3</th>\n",
       "      <td>BBD456K</td>\n",
       "      <td>False</td>\n",
       "      <td>False</td>\n",
       "      <td>False</td>\n",
       "      <td>False</td>\n",
       "      <td>False</td>\n",
       "      <td>False</td>\n",
       "      <td>6900</td>\n",
       "    </tr>\n",
       "    <tr>\n",
       "      <th>18</th>\n",
       "      <td>PEL111K</td>\n",
       "      <td>False</td>\n",
       "      <td>False</td>\n",
       "      <td>True</td>\n",
       "      <td>False</td>\n",
       "      <td>False</td>\n",
       "      <td>False</td>\n",
       "      <td>11388</td>\n",
       "    </tr>\n",
       "    <tr>\n",
       "      <th>6</th>\n",
       "      <td>CTX123L</td>\n",
       "      <td>False</td>\n",
       "      <td>False</td>\n",
       "      <td>False</td>\n",
       "      <td>False</td>\n",
       "      <td>False</td>\n",
       "      <td>True</td>\n",
       "      <td>13400</td>\n",
       "    </tr>\n",
       "    <tr>\n",
       "      <th>19</th>\n",
       "      <td>PNWD777L</td>\n",
       "      <td>False</td>\n",
       "      <td>True</td>\n",
       "      <td>False</td>\n",
       "      <td>False</td>\n",
       "      <td>False</td>\n",
       "      <td>False</td>\n",
       "      <td>14350</td>\n",
       "    </tr>\n",
       "    <tr>\n",
       "      <th>7</th>\n",
       "      <td>DFR256N</td>\n",
       "      <td>False</td>\n",
       "      <td>True</td>\n",
       "      <td>True</td>\n",
       "      <td>False</td>\n",
       "      <td>False</td>\n",
       "      <td>True</td>\n",
       "      <td>15600</td>\n",
       "    </tr>\n",
       "    <tr>\n",
       "      <th>22</th>\n",
       "      <td>QZR577O</td>\n",
       "      <td>False</td>\n",
       "      <td>False</td>\n",
       "      <td>False</td>\n",
       "      <td>False</td>\n",
       "      <td>False</td>\n",
       "      <td>True</td>\n",
       "      <td>16999</td>\n",
       "    </tr>\n",
       "    <tr>\n",
       "      <th>24</th>\n",
       "      <td>RBZ451D</td>\n",
       "      <td>False</td>\n",
       "      <td>False</td>\n",
       "      <td>False</td>\n",
       "      <td>False</td>\n",
       "      <td>False</td>\n",
       "      <td>True</td>\n",
       "      <td>17890</td>\n",
       "    </tr>\n",
       "    <tr>\n",
       "      <th>23</th>\n",
       "      <td>RAY344W</td>\n",
       "      <td>False</td>\n",
       "      <td>True</td>\n",
       "      <td>True</td>\n",
       "      <td>False</td>\n",
       "      <td>False</td>\n",
       "      <td>True</td>\n",
       "      <td>18900</td>\n",
       "    </tr>\n",
       "    <tr>\n",
       "      <th>17</th>\n",
       "      <td>PDG234M</td>\n",
       "      <td>False</td>\n",
       "      <td>True</td>\n",
       "      <td>True</td>\n",
       "      <td>False</td>\n",
       "      <td>False</td>\n",
       "      <td>False</td>\n",
       "      <td>19806</td>\n",
       "    </tr>\n",
       "    <tr>\n",
       "      <th>21</th>\n",
       "      <td>QWR222Y</td>\n",
       "      <td>False</td>\n",
       "      <td>True</td>\n",
       "      <td>True</td>\n",
       "      <td>True</td>\n",
       "      <td>False</td>\n",
       "      <td>True</td>\n",
       "      <td>21350</td>\n",
       "    </tr>\n",
       "    <tr>\n",
       "      <th>14</th>\n",
       "      <td>NBN329S</td>\n",
       "      <td>True</td>\n",
       "      <td>False</td>\n",
       "      <td>False</td>\n",
       "      <td>False</td>\n",
       "      <td>False</td>\n",
       "      <td>False</td>\n",
       "      <td>21972</td>\n",
       "    </tr>\n",
       "    <tr>\n",
       "      <th>25</th>\n",
       "      <td>SDO555G</td>\n",
       "      <td>False</td>\n",
       "      <td>True</td>\n",
       "      <td>False</td>\n",
       "      <td>True</td>\n",
       "      <td>False</td>\n",
       "      <td>False</td>\n",
       "      <td>22000</td>\n",
       "    </tr>\n",
       "    <tr>\n",
       "      <th>16</th>\n",
       "      <td>PDF768G</td>\n",
       "      <td>False</td>\n",
       "      <td>True</td>\n",
       "      <td>True</td>\n",
       "      <td>True</td>\n",
       "      <td>False</td>\n",
       "      <td>True</td>\n",
       "      <td>22650</td>\n",
       "    </tr>\n",
       "    <tr>\n",
       "      <th>15</th>\n",
       "      <td>NSD450I</td>\n",
       "      <td>False</td>\n",
       "      <td>False</td>\n",
       "      <td>True</td>\n",
       "      <td>False</td>\n",
       "      <td>True</td>\n",
       "      <td>False</td>\n",
       "      <td>23456</td>\n",
       "    </tr>\n",
       "    <tr>\n",
       "      <th>9</th>\n",
       "      <td>ENG897N</td>\n",
       "      <td>True</td>\n",
       "      <td>True</td>\n",
       "      <td>False</td>\n",
       "      <td>True</td>\n",
       "      <td>False</td>\n",
       "      <td>True</td>\n",
       "      <td>23456</td>\n",
       "    </tr>\n",
       "    <tr>\n",
       "      <th>13</th>\n",
       "      <td>NAJ56GL</td>\n",
       "      <td>False</td>\n",
       "      <td>True</td>\n",
       "      <td>False</td>\n",
       "      <td>False</td>\n",
       "      <td>False</td>\n",
       "      <td>False</td>\n",
       "      <td>23600</td>\n",
       "    </tr>\n",
       "    <tr>\n",
       "      <th>20</th>\n",
       "      <td>POP857R</td>\n",
       "      <td>False</td>\n",
       "      <td>False</td>\n",
       "      <td>False</td>\n",
       "      <td>False</td>\n",
       "      <td>False</td>\n",
       "      <td>True</td>\n",
       "      <td>24560</td>\n",
       "    </tr>\n",
       "    <tr>\n",
       "      <th>8</th>\n",
       "      <td>DGS789M</td>\n",
       "      <td>True</td>\n",
       "      <td>True</td>\n",
       "      <td>False</td>\n",
       "      <td>False</td>\n",
       "      <td>False</td>\n",
       "      <td>True</td>\n",
       "      <td>27688</td>\n",
       "    </tr>\n",
       "    <tr>\n",
       "      <th>41</th>\n",
       "      <td>WUV902Y</td>\n",
       "      <td>True</td>\n",
       "      <td>True</td>\n",
       "      <td>True</td>\n",
       "      <td>False</td>\n",
       "      <td>False</td>\n",
       "      <td>True</td>\n",
       "      <td>28000</td>\n",
       "    </tr>\n",
       "    <tr>\n",
       "      <th>12</th>\n",
       "      <td>ETT987D</td>\n",
       "      <td>False</td>\n",
       "      <td>True</td>\n",
       "      <td>False</td>\n",
       "      <td>True</td>\n",
       "      <td>False</td>\n",
       "      <td>False</td>\n",
       "      <td>28700</td>\n",
       "    </tr>\n",
       "    <tr>\n",
       "      <th>30</th>\n",
       "      <td>TVF078Y</td>\n",
       "      <td>True</td>\n",
       "      <td>True</td>\n",
       "      <td>True</td>\n",
       "      <td>True</td>\n",
       "      <td>True</td>\n",
       "      <td>True</td>\n",
       "      <td>29999</td>\n",
       "    </tr>\n",
       "    <tr>\n",
       "      <th>29</th>\n",
       "      <td>SYL888P</td>\n",
       "      <td>False</td>\n",
       "      <td>True</td>\n",
       "      <td>True</td>\n",
       "      <td>False</td>\n",
       "      <td>True</td>\n",
       "      <td>False</td>\n",
       "      <td>32459</td>\n",
       "    </tr>\n",
       "    <tr>\n",
       "      <th>39</th>\n",
       "      <td>VYI666I</td>\n",
       "      <td>True</td>\n",
       "      <td>True</td>\n",
       "      <td>False</td>\n",
       "      <td>False</td>\n",
       "      <td>False</td>\n",
       "      <td>False</td>\n",
       "      <td>33460</td>\n",
       "    </tr>\n",
       "    <tr>\n",
       "      <th>36</th>\n",
       "      <td>UST000T</td>\n",
       "      <td>True</td>\n",
       "      <td>True</td>\n",
       "      <td>True</td>\n",
       "      <td>True</td>\n",
       "      <td>False</td>\n",
       "      <td>False</td>\n",
       "      <td>34589</td>\n",
       "    </tr>\n",
       "    <tr>\n",
       "      <th>40</th>\n",
       "      <td>WER765T</td>\n",
       "      <td>True</td>\n",
       "      <td>True</td>\n",
       "      <td>False</td>\n",
       "      <td>True</td>\n",
       "      <td>False</td>\n",
       "      <td>False</td>\n",
       "      <td>34780</td>\n",
       "    </tr>\n",
       "    <tr>\n",
       "      <th>10</th>\n",
       "      <td>EOP657N</td>\n",
       "      <td>True</td>\n",
       "      <td>True</td>\n",
       "      <td>False</td>\n",
       "      <td>False</td>\n",
       "      <td>False</td>\n",
       "      <td>False</td>\n",
       "      <td>35460</td>\n",
       "    </tr>\n",
       "    <tr>\n",
       "      <th>28</th>\n",
       "      <td>SSD000L</td>\n",
       "      <td>True</td>\n",
       "      <td>True</td>\n",
       "      <td>True</td>\n",
       "      <td>True</td>\n",
       "      <td>True</td>\n",
       "      <td>False</td>\n",
       "      <td>36555</td>\n",
       "    </tr>\n",
       "    <tr>\n",
       "      <th>42</th>\n",
       "      <td>WZB298K</td>\n",
       "      <td>True</td>\n",
       "      <td>True</td>\n",
       "      <td>True</td>\n",
       "      <td>True</td>\n",
       "      <td>True</td>\n",
       "      <td>True</td>\n",
       "      <td>39000</td>\n",
       "    </tr>\n",
       "    <tr>\n",
       "      <th>38</th>\n",
       "      <td>VWV532Y</td>\n",
       "      <td>True</td>\n",
       "      <td>True</td>\n",
       "      <td>False</td>\n",
       "      <td>True</td>\n",
       "      <td>False</td>\n",
       "      <td>False</td>\n",
       "      <td>39781</td>\n",
       "    </tr>\n",
       "    <tr>\n",
       "      <th>26</th>\n",
       "      <td>SET568R</td>\n",
       "      <td>False</td>\n",
       "      <td>False</td>\n",
       "      <td>False</td>\n",
       "      <td>False</td>\n",
       "      <td>True</td>\n",
       "      <td>False</td>\n",
       "      <td>41320</td>\n",
       "    </tr>\n",
       "    <tr>\n",
       "      <th>35</th>\n",
       "      <td>ULI999T</td>\n",
       "      <td>False</td>\n",
       "      <td>True</td>\n",
       "      <td>False</td>\n",
       "      <td>False</td>\n",
       "      <td>False</td>\n",
       "      <td>False</td>\n",
       "      <td>42000</td>\n",
       "    </tr>\n",
       "    <tr>\n",
       "      <th>37</th>\n",
       "      <td>USZ111S</td>\n",
       "      <td>True</td>\n",
       "      <td>True</td>\n",
       "      <td>False</td>\n",
       "      <td>True</td>\n",
       "      <td>False</td>\n",
       "      <td>False</td>\n",
       "      <td>42300</td>\n",
       "    </tr>\n",
       "    <tr>\n",
       "      <th>11</th>\n",
       "      <td>ELS333L</td>\n",
       "      <td>True</td>\n",
       "      <td>True</td>\n",
       "      <td>True</td>\n",
       "      <td>True</td>\n",
       "      <td>False</td>\n",
       "      <td>False</td>\n",
       "      <td>43980</td>\n",
       "    </tr>\n",
       "    <tr>\n",
       "      <th>45</th>\n",
       "      <td>XXV567F</td>\n",
       "      <td>False</td>\n",
       "      <td>True</td>\n",
       "      <td>True</td>\n",
       "      <td>True</td>\n",
       "      <td>False</td>\n",
       "      <td>False</td>\n",
       "      <td>43990</td>\n",
       "    </tr>\n",
       "    <tr>\n",
       "      <th>33</th>\n",
       "      <td>TYU444Q</td>\n",
       "      <td>False</td>\n",
       "      <td>True</td>\n",
       "      <td>True</td>\n",
       "      <td>True</td>\n",
       "      <td>False</td>\n",
       "      <td>True</td>\n",
       "      <td>45680</td>\n",
       "    </tr>\n",
       "    <tr>\n",
       "      <th>31</th>\n",
       "      <td>TYQ109G</td>\n",
       "      <td>False</td>\n",
       "      <td>True</td>\n",
       "      <td>True</td>\n",
       "      <td>False</td>\n",
       "      <td>False</td>\n",
       "      <td>True</td>\n",
       "      <td>45899</td>\n",
       "    </tr>\n",
       "    <tr>\n",
       "      <th>32</th>\n",
       "      <td>TYS938L</td>\n",
       "      <td>True</td>\n",
       "      <td>True</td>\n",
       "      <td>True</td>\n",
       "      <td>True</td>\n",
       "      <td>True</td>\n",
       "      <td>True</td>\n",
       "      <td>46777</td>\n",
       "    </tr>\n",
       "    <tr>\n",
       "      <th>27</th>\n",
       "      <td>SFK567Y</td>\n",
       "      <td>True</td>\n",
       "      <td>True</td>\n",
       "      <td>True</td>\n",
       "      <td>False</td>\n",
       "      <td>False</td>\n",
       "      <td>False</td>\n",
       "      <td>49899</td>\n",
       "    </tr>\n",
       "    <tr>\n",
       "      <th>44</th>\n",
       "      <td>XTL675G</td>\n",
       "      <td>True</td>\n",
       "      <td>True</td>\n",
       "      <td>True</td>\n",
       "      <td>True</td>\n",
       "      <td>True</td>\n",
       "      <td>False</td>\n",
       "      <td>51230</td>\n",
       "    </tr>\n",
       "    <tr>\n",
       "      <th>43</th>\n",
       "      <td>XKL901R</td>\n",
       "      <td>False</td>\n",
       "      <td>True</td>\n",
       "      <td>True</td>\n",
       "      <td>False</td>\n",
       "      <td>False</td>\n",
       "      <td>False</td>\n",
       "      <td>54320</td>\n",
       "    </tr>\n",
       "    <tr>\n",
       "      <th>46</th>\n",
       "      <td>YTR67TY</td>\n",
       "      <td>True</td>\n",
       "      <td>True</td>\n",
       "      <td>False</td>\n",
       "      <td>True</td>\n",
       "      <td>False</td>\n",
       "      <td>False</td>\n",
       "      <td>56000</td>\n",
       "    </tr>\n",
       "    <tr>\n",
       "      <th>34</th>\n",
       "      <td>TYY453J</td>\n",
       "      <td>True</td>\n",
       "      <td>True</td>\n",
       "      <td>False</td>\n",
       "      <td>True</td>\n",
       "      <td>True</td>\n",
       "      <td>False</td>\n",
       "      <td>61750</td>\n",
       "    </tr>\n",
       "    <tr>\n",
       "      <th>47</th>\n",
       "      <td>ZDF789K</td>\n",
       "      <td>False</td>\n",
       "      <td>True</td>\n",
       "      <td>True</td>\n",
       "      <td>True</td>\n",
       "      <td>True</td>\n",
       "      <td>True</td>\n",
       "      <td>84566</td>\n",
       "    </tr>\n",
       "    <tr>\n",
       "      <th>48</th>\n",
       "      <td>ZEO567M</td>\n",
       "      <td>False</td>\n",
       "      <td>True</td>\n",
       "      <td>True</td>\n",
       "      <td>True</td>\n",
       "      <td>True</td>\n",
       "      <td>True</td>\n",
       "      <td>88999</td>\n",
       "    </tr>\n",
       "    <tr>\n",
       "      <th>49</th>\n",
       "      <td>ZZZ909X</td>\n",
       "      <td>False</td>\n",
       "      <td>True</td>\n",
       "      <td>True</td>\n",
       "      <td>True</td>\n",
       "      <td>True</td>\n",
       "      <td>True</td>\n",
       "      <td>149000</td>\n",
       "    </tr>\n",
       "  </tbody>\n",
       "</table>\n",
       "</div>"
      ],
      "text/plain": [
       "         PID   con1   con2   con3   con4   con5   con6   Price\n",
       "0    AAB346A  False  False  False  False  False  False    3297\n",
       "1    AAC347I  False  False  False  False  False  False    4500\n",
       "2    BAB657J  False  False  False  False  False  False    4898\n",
       "5    CCQ674K  False  False  False  False  False  False    4990\n",
       "4    CCP761U  False  False  False  False  False  False    5600\n",
       "3    BBD456K  False  False  False  False  False  False    6900\n",
       "18   PEL111K  False  False   True  False  False  False   11388\n",
       "6    CTX123L  False  False  False  False  False   True   13400\n",
       "19  PNWD777L  False   True  False  False  False  False   14350\n",
       "7    DFR256N  False   True   True  False  False   True   15600\n",
       "22   QZR577O  False  False  False  False  False   True   16999\n",
       "24   RBZ451D  False  False  False  False  False   True   17890\n",
       "23   RAY344W  False   True   True  False  False   True   18900\n",
       "17   PDG234M  False   True   True  False  False  False   19806\n",
       "21   QWR222Y  False   True   True   True  False   True   21350\n",
       "14   NBN329S   True  False  False  False  False  False   21972\n",
       "25   SDO555G  False   True  False   True  False  False   22000\n",
       "16   PDF768G  False   True   True   True  False   True   22650\n",
       "15   NSD450I  False  False   True  False   True  False   23456\n",
       "9    ENG897N   True   True  False   True  False   True   23456\n",
       "13   NAJ56GL  False   True  False  False  False  False   23600\n",
       "20   POP857R  False  False  False  False  False   True   24560\n",
       "8    DGS789M   True   True  False  False  False   True   27688\n",
       "41   WUV902Y   True   True   True  False  False   True   28000\n",
       "12   ETT987D  False   True  False   True  False  False   28700\n",
       "30   TVF078Y   True   True   True   True   True   True   29999\n",
       "29   SYL888P  False   True   True  False   True  False   32459\n",
       "39   VYI666I   True   True  False  False  False  False   33460\n",
       "36   UST000T   True   True   True   True  False  False   34589\n",
       "40   WER765T   True   True  False   True  False  False   34780\n",
       "10   EOP657N   True   True  False  False  False  False   35460\n",
       "28   SSD000L   True   True   True   True   True  False   36555\n",
       "42   WZB298K   True   True   True   True   True   True   39000\n",
       "38   VWV532Y   True   True  False   True  False  False   39781\n",
       "26   SET568R  False  False  False  False   True  False   41320\n",
       "35   ULI999T  False   True  False  False  False  False   42000\n",
       "37   USZ111S   True   True  False   True  False  False   42300\n",
       "11   ELS333L   True   True   True   True  False  False   43980\n",
       "45   XXV567F  False   True   True   True  False  False   43990\n",
       "33   TYU444Q  False   True   True   True  False   True   45680\n",
       "31   TYQ109G  False   True   True  False  False   True   45899\n",
       "32   TYS938L   True   True   True   True   True   True   46777\n",
       "27   SFK567Y   True   True   True  False  False  False   49899\n",
       "44   XTL675G   True   True   True   True   True  False   51230\n",
       "43   XKL901R  False   True   True  False  False  False   54320\n",
       "46   YTR67TY   True   True  False   True  False  False   56000\n",
       "34   TYY453J   True   True  False   True   True  False   61750\n",
       "47   ZDF789K  False   True   True   True   True   True   84566\n",
       "48   ZEO567M  False   True   True   True   True   True   88999\n",
       "49   ZZZ909X  False   True   True   True   True   True  149000"
      ]
     },
     "execution_count": 45,
     "metadata": {},
     "output_type": "execute_result"
    }
   ],
   "source": [
    "# Sort the new dataframe according to the \"Price\" in Ascending Order\n",
    "\n",
    "df1.sort_values(by = 'Price', ascending = True, inplace = True)\n",
    "df1"
   ]
  },
  {
   "cell_type": "code",
   "execution_count": 49,
   "metadata": {},
   "outputs": [
    {
     "data": {
      "text/html": [
       "<div>\n",
       "<style scoped>\n",
       "    .dataframe tbody tr th:only-of-type {\n",
       "        vertical-align: middle;\n",
       "    }\n",
       "\n",
       "    .dataframe tbody tr th {\n",
       "        vertical-align: top;\n",
       "    }\n",
       "\n",
       "    .dataframe thead th {\n",
       "        text-align: right;\n",
       "    }\n",
       "</style>\n",
       "<table border=\"1\" class=\"dataframe\">\n",
       "  <thead>\n",
       "    <tr style=\"text-align: right;\">\n",
       "      <th></th>\n",
       "      <th>PID</th>\n",
       "      <th>con1</th>\n",
       "      <th>con2</th>\n",
       "      <th>con3</th>\n",
       "      <th>con4</th>\n",
       "      <th>con5</th>\n",
       "      <th>con6</th>\n",
       "      <th>Price</th>\n",
       "    </tr>\n",
       "  </thead>\n",
       "  <tbody>\n",
       "    <tr>\n",
       "      <th>30</th>\n",
       "      <td>TVF078Y</td>\n",
       "      <td>True</td>\n",
       "      <td>True</td>\n",
       "      <td>True</td>\n",
       "      <td>True</td>\n",
       "      <td>True</td>\n",
       "      <td>True</td>\n",
       "      <td>29999</td>\n",
       "    </tr>\n",
       "    <tr>\n",
       "      <th>42</th>\n",
       "      <td>WZB298K</td>\n",
       "      <td>True</td>\n",
       "      <td>True</td>\n",
       "      <td>True</td>\n",
       "      <td>True</td>\n",
       "      <td>True</td>\n",
       "      <td>True</td>\n",
       "      <td>39000</td>\n",
       "    </tr>\n",
       "    <tr>\n",
       "      <th>32</th>\n",
       "      <td>TYS938L</td>\n",
       "      <td>True</td>\n",
       "      <td>True</td>\n",
       "      <td>True</td>\n",
       "      <td>True</td>\n",
       "      <td>True</td>\n",
       "      <td>True</td>\n",
       "      <td>46777</td>\n",
       "    </tr>\n",
       "  </tbody>\n",
       "</table>\n",
       "</div>"
      ],
      "text/plain": [
       "        PID  con1  con2  con3  con4  con5  con6  Price\n",
       "30  TVF078Y  True  True  True  True  True  True  29999\n",
       "42  WZB298K  True  True  True  True  True  True  39000\n",
       "32  TYS938L  True  True  True  True  True  True  46777"
      ]
     },
     "execution_count": 49,
     "metadata": {},
     "output_type": "execute_result"
    }
   ],
   "source": [
    "# Phones where all the Conditions are True\n",
    "df1[(df1['con1'] == True) & (df1['con2'] == True) & (df1['con3'] == True) & (df1['con4'] == True) & (df1['con5'] == True) & (df1['con6'] == True)]"
   ]
  },
  {
   "cell_type": "markdown",
   "metadata": {
    "id": "Zn6iT-HQSocg"
   },
   "source": [
    "**Observations**\n",
    "\n",
    "Based on all the logical conditions obtained through analysis of the features, we are left with three phones.\n",
    "\n",
    "The most expensive of these phones is the \"TYS938L\" model and the least expensive is the \"TVF078Y\" model.\n",
    "\n",
    "We could let the children choose from these three phones as per their preferences."
   ]
  },
  {
   "cell_type": "markdown",
   "metadata": {
    "id": "O09ZVXlbSvhj"
   },
   "source": [
    "**Create a Series that shows the Deviation of each Numerical Feature**"
   ]
  },
  {
   "cell_type": "code",
   "execution_count": 31,
   "metadata": {},
   "outputs": [],
   "source": [
    "df_num = df.select_dtypes(include = 'number')"
   ]
  },
  {
   "cell_type": "code",
   "execution_count": 32,
   "metadata": {},
   "outputs": [
    {
     "name": "stdout",
     "output_type": "stream",
     "text": [
      "Px_h       0.257998\n",
      "Px_w       0.256226\n",
      "Scr_h      0.314293\n",
      "Scr_w      0.407624\n",
      "PC         0.715716\n",
      "FC         0.712184\n",
      "Int_Mem    1.506514\n",
      "Bty_Pwr    0.256368\n",
      "RAM        0.479075\n",
      "Depth      0.306072\n",
      "Weight     0.388121\n",
      "Price      0.740868\n",
      "Px         0.398680\n",
      "Scr_d      0.340469\n",
      "dtype: float64\n"
     ]
    }
   ],
   "source": [
    "ratios = df_num.std() / df_num.mean()\n",
    "\n",
    "deviations = pd.Series(ratios)\n",
    "\n",
    "print(deviations)"
   ]
  },
  {
   "cell_type": "code",
   "execution_count": 33,
   "metadata": {
    "id": "sBRqrnVaN86s"
   },
   "outputs": [
    {
     "data": {
      "text/plain": [
       "Int_Mem    1.506514\n",
       "Price      0.740868\n",
       "PC         0.715716\n",
       "FC         0.712184\n",
       "RAM        0.479075\n",
       "Scr_w      0.407624\n",
       "Px         0.398680\n",
       "Weight     0.388121\n",
       "Scr_d      0.340469\n",
       "Scr_h      0.314293\n",
       "Depth      0.306072\n",
       "Px_h       0.257998\n",
       "Bty_Pwr    0.256368\n",
       "Px_w       0.256226\n",
       "dtype: float64"
      ]
     },
     "execution_count": 33,
     "metadata": {},
     "output_type": "execute_result"
    }
   ],
   "source": [
    "deviations.sort_values(ascending = False)"
   ]
  },
  {
   "cell_type": "markdown",
   "metadata": {
    "id": "RSypqWHuSzJU"
   },
   "source": [
    "**Observations**\n",
    "\n",
    "The ratio of the standard deviation to the mean of a feature normalises it in a way.\n",
    "\n",
    "This allows for comparison between multiple features.\n",
    "\n",
    "The most variable feature in the original data set is the internal memory of the phones.\n",
    "\n",
    "The least variable feature in the original data set is the number of screen pixels in the horizontal axis.\n",
    "\n",
    "Although most features don't seem so variable, the prices of the phones are quite variable."
   ]
  }
 ],
 "metadata": {
  "colab": {
   "provenance": []
  },
  "kernelspec": {
   "display_name": "Python 3 (ipykernel)",
   "language": "python",
   "name": "python3"
  },
  "language_info": {
   "codemirror_mode": {
    "name": "ipython",
    "version": 3
   },
   "file_extension": ".py",
   "mimetype": "text/x-python",
   "name": "python",
   "nbconvert_exporter": "python",
   "pygments_lexer": "ipython3",
   "version": "3.9.7"
  }
 },
 "nbformat": 4,
 "nbformat_minor": 1
}
