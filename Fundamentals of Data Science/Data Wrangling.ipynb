{
 "cells": [
  {
   "cell_type": "markdown",
   "id": "d3251452-9e00-4c25-a838-b85be2cf77d4",
   "metadata": {},
   "source": [
    "## Data Wrangling"
   ]
  },
  {
   "cell_type": "code",
   "execution_count": 47,
   "id": "7b044ece-288a-47a9-9951-357dded9c9bc",
   "metadata": {},
   "outputs": [],
   "source": [
    "# importing libraries\n",
    "import pandas as pd\n",
    "import numpy as np"
   ]
  },
  {
   "cell_type": "code",
   "execution_count": 48,
   "id": "f67137c0-1d20-4569-adad-b3a0fc3e17b4",
   "metadata": {},
   "outputs": [],
   "source": [
    "# load dataframe\n",
    "df = pd.read_csv(r\"Raw_data.csv\", encoding = 'unicode_escape', low_memory = False)"
   ]
  },
  {
   "cell_type": "markdown",
   "id": "cf16e0d1-62bf-4548-9707-6b6990d53d24",
   "metadata": {},
   "source": [
    "#### Q.1) Print the first five rows of the dataframe and use a suitable function to extract the column names and dimension of the dataframe."
   ]
  },
  {
   "cell_type": "code",
   "execution_count": 49,
   "id": "0abaaae3-5290-4ae4-80d7-ff344f3fe3bc",
   "metadata": {},
   "outputs": [
    {
     "data": {
      "text/html": [
       "<div>\n",
       "<style scoped>\n",
       "    .dataframe tbody tr th:only-of-type {\n",
       "        vertical-align: middle;\n",
       "    }\n",
       "\n",
       "    .dataframe tbody tr th {\n",
       "        vertical-align: top;\n",
       "    }\n",
       "\n",
       "    .dataframe thead th {\n",
       "        text-align: right;\n",
       "    }\n",
       "</style>\n",
       "<table border=\"1\" class=\"dataframe\">\n",
       "  <thead>\n",
       "    <tr style=\"text-align: right;\">\n",
       "      <th></th>\n",
       "      <th>Permit Number</th>\n",
       "      <th>Permit Type</th>\n",
       "      <th>Permit Type Definition</th>\n",
       "      <th>Block</th>\n",
       "      <th>Lot</th>\n",
       "      <th>Street Number</th>\n",
       "      <th>Street Number Suffix</th>\n",
       "      <th>Street Name</th>\n",
       "      <th>Street Suffix</th>\n",
       "      <th>Unit</th>\n",
       "      <th>...</th>\n",
       "      <th>Existing Units</th>\n",
       "      <th>Proposed Units</th>\n",
       "      <th>Plansets</th>\n",
       "      <th>TIDF Compliance</th>\n",
       "      <th>Existing Construction Type</th>\n",
       "      <th>Proposed Construction Type</th>\n",
       "      <th>Supervisor District</th>\n",
       "      <th>Zipcode</th>\n",
       "      <th>Location</th>\n",
       "      <th>Record ID</th>\n",
       "    </tr>\n",
       "  </thead>\n",
       "  <tbody>\n",
       "    <tr>\n",
       "      <th>0</th>\n",
       "      <td>2.02E+11</td>\n",
       "      <td>4</td>\n",
       "      <td>sign - erect</td>\n",
       "      <td>326</td>\n",
       "      <td>23</td>\n",
       "      <td>140</td>\n",
       "      <td>NaN</td>\n",
       "      <td>Ellis</td>\n",
       "      <td>St</td>\n",
       "      <td>NaN</td>\n",
       "      <td>...</td>\n",
       "      <td>143.0</td>\n",
       "      <td>NaN</td>\n",
       "      <td>2.0</td>\n",
       "      <td>NaN</td>\n",
       "      <td>3.0</td>\n",
       "      <td>NaN</td>\n",
       "      <td>3.0</td>\n",
       "      <td>94102.0</td>\n",
       "      <td>(37.785719256680785, -122.40852313194863)</td>\n",
       "      <td>1.380000e+12</td>\n",
       "    </tr>\n",
       "    <tr>\n",
       "      <th>1</th>\n",
       "      <td>2.02E+11</td>\n",
       "      <td>4</td>\n",
       "      <td>sign - erect</td>\n",
       "      <td>306</td>\n",
       "      <td>7</td>\n",
       "      <td>440</td>\n",
       "      <td>NaN</td>\n",
       "      <td>Geary</td>\n",
       "      <td>St</td>\n",
       "      <td>0.0</td>\n",
       "      <td>...</td>\n",
       "      <td>NaN</td>\n",
       "      <td>NaN</td>\n",
       "      <td>2.0</td>\n",
       "      <td>NaN</td>\n",
       "      <td>3.0</td>\n",
       "      <td>NaN</td>\n",
       "      <td>3.0</td>\n",
       "      <td>94102.0</td>\n",
       "      <td>(37.78733980600732, -122.41063199757738)</td>\n",
       "      <td>1.420000e+12</td>\n",
       "    </tr>\n",
       "    <tr>\n",
       "      <th>2</th>\n",
       "      <td>2.02E+11</td>\n",
       "      <td>3</td>\n",
       "      <td>additions alterations or repairs</td>\n",
       "      <td>595</td>\n",
       "      <td>203</td>\n",
       "      <td>1647</td>\n",
       "      <td>NaN</td>\n",
       "      <td>Pacific</td>\n",
       "      <td>Av</td>\n",
       "      <td>NaN</td>\n",
       "      <td>...</td>\n",
       "      <td>39.0</td>\n",
       "      <td>39.0</td>\n",
       "      <td>2.0</td>\n",
       "      <td>NaN</td>\n",
       "      <td>1.0</td>\n",
       "      <td>1.0</td>\n",
       "      <td>3.0</td>\n",
       "      <td>94109.0</td>\n",
       "      <td>(37.7946573324287, -122.42232562979227)</td>\n",
       "      <td>1.420000e+12</td>\n",
       "    </tr>\n",
       "    <tr>\n",
       "      <th>3</th>\n",
       "      <td>2.02E+11</td>\n",
       "      <td>8</td>\n",
       "      <td>otc alterations permit</td>\n",
       "      <td>156</td>\n",
       "      <td>11</td>\n",
       "      <td>1230</td>\n",
       "      <td>NaN</td>\n",
       "      <td>Pacific</td>\n",
       "      <td>Av</td>\n",
       "      <td>0.0</td>\n",
       "      <td>...</td>\n",
       "      <td>1.0</td>\n",
       "      <td>1.0</td>\n",
       "      <td>2.0</td>\n",
       "      <td>NaN</td>\n",
       "      <td>5.0</td>\n",
       "      <td>5.0</td>\n",
       "      <td>3.0</td>\n",
       "      <td>94109.0</td>\n",
       "      <td>(37.79595867909168, -122.41557405519474)</td>\n",
       "      <td>1.440000e+12</td>\n",
       "    </tr>\n",
       "    <tr>\n",
       "      <th>4</th>\n",
       "      <td>2.02E+11</td>\n",
       "      <td>6</td>\n",
       "      <td>demolitions</td>\n",
       "      <td>342</td>\n",
       "      <td>1</td>\n",
       "      <td>950</td>\n",
       "      <td>NaN</td>\n",
       "      <td>Market</td>\n",
       "      <td>St</td>\n",
       "      <td>NaN</td>\n",
       "      <td>...</td>\n",
       "      <td>NaN</td>\n",
       "      <td>NaN</td>\n",
       "      <td>2.0</td>\n",
       "      <td>NaN</td>\n",
       "      <td>3.0</td>\n",
       "      <td>NaN</td>\n",
       "      <td>6.0</td>\n",
       "      <td>94102.0</td>\n",
       "      <td>(37.78315261897309, -122.40950883997789)</td>\n",
       "      <td>1.450000e+11</td>\n",
       "    </tr>\n",
       "  </tbody>\n",
       "</table>\n",
       "<p>5 rows × 26 columns</p>\n",
       "</div>"
      ],
      "text/plain": [
       "  Permit Number  Permit Type            Permit Type Definition Block  Lot  \\\n",
       "0      2.02E+11            4                      sign - erect   326   23   \n",
       "1      2.02E+11            4                      sign - erect   306    7   \n",
       "2      2.02E+11            3  additions alterations or repairs   595  203   \n",
       "3      2.02E+11            8            otc alterations permit   156   11   \n",
       "4      2.02E+11            6                       demolitions   342    1   \n",
       "\n",
       "   Street Number Street Number Suffix Street Name Street Suffix  Unit  ...  \\\n",
       "0            140                  NaN       Ellis            St   NaN  ...   \n",
       "1            440                  NaN       Geary            St   0.0  ...   \n",
       "2           1647                  NaN     Pacific            Av   NaN  ...   \n",
       "3           1230                  NaN     Pacific            Av   0.0  ...   \n",
       "4            950                  NaN      Market            St   NaN  ...   \n",
       "\n",
       "  Existing Units  Proposed Units  Plansets TIDF Compliance  \\\n",
       "0          143.0             NaN       2.0             NaN   \n",
       "1            NaN             NaN       2.0             NaN   \n",
       "2           39.0            39.0       2.0             NaN   \n",
       "3            1.0             1.0       2.0             NaN   \n",
       "4            NaN             NaN       2.0             NaN   \n",
       "\n",
       "   Existing Construction Type  Proposed Construction Type  \\\n",
       "0                         3.0                         NaN   \n",
       "1                         3.0                         NaN   \n",
       "2                         1.0                         1.0   \n",
       "3                         5.0                         5.0   \n",
       "4                         3.0                         NaN   \n",
       "\n",
       "   Supervisor District  Zipcode                                   Location  \\\n",
       "0                  3.0  94102.0  (37.785719256680785, -122.40852313194863)   \n",
       "1                  3.0  94102.0   (37.78733980600732, -122.41063199757738)   \n",
       "2                  3.0  94109.0    (37.7946573324287, -122.42232562979227)   \n",
       "3                  3.0  94109.0   (37.79595867909168, -122.41557405519474)   \n",
       "4                  6.0  94102.0   (37.78315261897309, -122.40950883997789)   \n",
       "\n",
       "      Record ID  \n",
       "0  1.380000e+12  \n",
       "1  1.420000e+12  \n",
       "2  1.420000e+12  \n",
       "3  1.440000e+12  \n",
       "4  1.450000e+11  \n",
       "\n",
       "[5 rows x 26 columns]"
      ]
     },
     "execution_count": 49,
     "metadata": {},
     "output_type": "execute_result"
    }
   ],
   "source": [
    "df.head(5)"
   ]
  },
  {
   "cell_type": "markdown",
   "id": "740db5a9-8e24-4af6-bbfb-0c8b90ce7f05",
   "metadata": {},
   "source": [
    "#### Q.2) Extract the datatype of each column"
   ]
  },
  {
   "cell_type": "code",
   "execution_count": 50,
   "id": "114a9545-c4a9-4424-84e5-ab3fcf500e75",
   "metadata": {},
   "outputs": [
    {
     "data": {
      "text/plain": [
       "Permit Number                     object\n",
       "Permit Type                        int64\n",
       "Permit Type Definition            object\n",
       "Block                             object\n",
       "Lot                               object\n",
       "Street Number                      int64\n",
       "Street Number Suffix              object\n",
       "Street Name                       object\n",
       "Street Suffix                     object\n",
       "Unit                             float64\n",
       "Unit Suffix                       object\n",
       "Number of Existing Stories       float64\n",
       "Number of Proposed Stories       float64\n",
       "Voluntary Soft-Story Retrofit     object\n",
       "Estimated Cost                   float64\n",
       "Revised Cost                     float64\n",
       "Existing Units                   float64\n",
       "Proposed Units                   float64\n",
       "Plansets                         float64\n",
       "TIDF Compliance                   object\n",
       "Existing Construction Type       float64\n",
       "Proposed Construction Type       float64\n",
       "Supervisor District              float64\n",
       "Zipcode                          float64\n",
       "Location                          object\n",
       "Record ID                        float64\n",
       "dtype: object"
      ]
     },
     "execution_count": 50,
     "metadata": {},
     "output_type": "execute_result"
    }
   ],
   "source": [
    "df.dtypes"
   ]
  },
  {
   "cell_type": "markdown",
   "id": "6742fdc9-3788-47df-b5ce-953614738518",
   "metadata": {},
   "source": [
    "#### Q.3) What is the count of the missing values in each column of the dataframe? Also find the overall total missing values and convert it in percentage."
   ]
  },
  {
   "cell_type": "code",
   "execution_count": 51,
   "id": "496386f9-1fea-4c61-acd5-c8f814d35172",
   "metadata": {},
   "outputs": [
    {
     "data": {
      "text/plain": [
       "Permit Number                         0\n",
       "Permit Type                           0\n",
       "Permit Type Definition                0\n",
       "Block                                 0\n",
       "Lot                                   0\n",
       "Street Number                         0\n",
       "Street Number Suffix             196684\n",
       "Street Name                           0\n",
       "Street Suffix                      2768\n",
       "Unit                             169421\n",
       "Unit Suffix                      196939\n",
       "Number of Existing Stories        42784\n",
       "Number of Proposed Stories        42868\n",
       "Voluntary Soft-Story Retrofit    198865\n",
       "Estimated Cost                    38066\n",
       "Revised Cost                       6066\n",
       "Existing Units                    51538\n",
       "Proposed Units                    50911\n",
       "Plansets                          37309\n",
       "TIDF Compliance                  198898\n",
       "Existing Construction Type        43366\n",
       "Proposed Construction Type        43162\n",
       "Supervisor District                1717\n",
       "Zipcode                            1716\n",
       "Location                           1700\n",
       "Record ID                             0\n",
       "dtype: int64"
      ]
     },
     "execution_count": 51,
     "metadata": {},
     "output_type": "execute_result"
    }
   ],
   "source": [
    "# missing values in each column\n",
    "df.isnull().sum()"
   ]
  },
  {
   "cell_type": "code",
   "execution_count": 52,
   "id": "af9121f0-f2d6-46a9-b5f9-a588e6e8dced",
   "metadata": {},
   "outputs": [
    {
     "data": {
      "text/plain": [
       "1324778"
      ]
     },
     "execution_count": 52,
     "metadata": {},
     "output_type": "execute_result"
    }
   ],
   "source": [
    "# overall missing values\n",
    "total_null = 0\n",
    "for num in df.isnull().sum():\n",
    "    total_null += num\n",
    "total_null"
   ]
  },
  {
   "cell_type": "code",
   "execution_count": 53,
   "id": "51b5ccfb-6a85-4976-a86e-d2e8180b854a",
   "metadata": {},
   "outputs": [
    {
     "name": "stdout",
     "output_type": "stream",
     "text": [
      "25.62%\n"
     ]
    }
   ],
   "source": [
    "# percentage of missing values\n",
    "total = df.size\n",
    "per = total_null/total * 100\n",
    "print(\"{:.2f}%\".format(per))"
   ]
  },
  {
   "cell_type": "markdown",
   "id": "1697b025-122d-4807-83a8-0aadef9ee99f",
   "metadata": {},
   "source": [
    "#### Q.4) What is dimension of the dataframe after removing the rows with missing values? Is the dimension same after removing columns with missing values?"
   ]
  },
  {
   "cell_type": "code",
   "execution_count": 54,
   "id": "6a99b9d7-fe1d-4de8-9dfe-662e66236957",
   "metadata": {},
   "outputs": [
    {
     "data": {
      "text/plain": [
       "(0, 26)"
      ]
     },
     "execution_count": 54,
     "metadata": {},
     "output_type": "execute_result"
    }
   ],
   "source": [
    "# dimention after removing rows with missing values\n",
    "temp = df.dropna(axis = 0)\n",
    "temp.shape"
   ]
  },
  {
   "cell_type": "code",
   "execution_count": 55,
   "id": "606788c2-3b49-4928-84c6-42b031e27257",
   "metadata": {},
   "outputs": [
    {
     "data": {
      "text/plain": [
       "(198900, 8)"
      ]
     },
     "execution_count": 55,
     "metadata": {},
     "output_type": "execute_result"
    }
   ],
   "source": [
    "# dimention after removing columns with missing values\n",
    "temp2 = df.dropna(axis = 1)\n",
    "temp2.shape"
   ]
  },
  {
   "cell_type": "markdown",
   "id": "44722953-a6cd-4d33-b5b0-e12fe601f15b",
   "metadata": {},
   "source": [
    "No, the dimentions are not the same."
   ]
  },
  {
   "cell_type": "markdown",
   "id": "6004ecfc-0cc2-4ebf-9fe6-626ae425870a",
   "metadata": {},
   "source": [
    "#### Q.5) Drop the entirely empty columns and then impute the new dataframe with forward and backward fill. Also, extract the names of the columns that were dropped. Next, obtain a fresh new dataframe and impute the missing values with the mean of the column."
   ]
  },
  {
   "cell_type": "code",
   "execution_count": 56,
   "id": "433b13fa-6cc4-4fa5-9334-f896d04f685c",
   "metadata": {},
   "outputs": [
    {
     "name": "stdout",
     "output_type": "stream",
     "text": [
      "<class 'pandas.core.frame.DataFrame'>\n",
      "RangeIndex: 198900 entries, 0 to 198899\n",
      "Data columns (total 26 columns):\n",
      " #   Column                         Non-Null Count   Dtype  \n",
      "---  ------                         --------------   -----  \n",
      " 0   Permit Number                  198900 non-null  object \n",
      " 1   Permit Type                    198900 non-null  int64  \n",
      " 2   Permit Type Definition         198900 non-null  object \n",
      " 3   Block                          198900 non-null  object \n",
      " 4   Lot                            198900 non-null  object \n",
      " 5   Street Number                  198900 non-null  int64  \n",
      " 6   Street Number Suffix           2216 non-null    object \n",
      " 7   Street Name                    198900 non-null  object \n",
      " 8   Street Suffix                  196132 non-null  object \n",
      " 9   Unit                           29479 non-null   float64\n",
      " 10  Unit Suffix                    1961 non-null    object \n",
      " 11  Number of Existing Stories     156116 non-null  float64\n",
      " 12  Number of Proposed Stories     156032 non-null  float64\n",
      " 13  Voluntary Soft-Story Retrofit  35 non-null      object \n",
      " 14  Estimated Cost                 160834 non-null  float64\n",
      " 15  Revised Cost                   192834 non-null  float64\n",
      " 16  Existing Units                 147362 non-null  float64\n",
      " 17  Proposed Units                 147989 non-null  float64\n",
      " 18  Plansets                       161591 non-null  float64\n",
      " 19  TIDF Compliance                2 non-null       object \n",
      " 20  Existing Construction Type     155534 non-null  float64\n",
      " 21  Proposed Construction Type     155738 non-null  float64\n",
      " 22  Supervisor District            197183 non-null  float64\n",
      " 23  Zipcode                        197184 non-null  float64\n",
      " 24  Location                       197200 non-null  object \n",
      " 25  Record ID                      198900 non-null  float64\n",
      "dtypes: float64(13), int64(2), object(11)\n",
      "memory usage: 39.5+ MB\n"
     ]
    }
   ],
   "source": [
    "df.info()"
   ]
  },
  {
   "cell_type": "markdown",
   "id": "4aab8878-1da5-43a0-b652-0866181de950",
   "metadata": {},
   "source": [
    "It can be seen that there are no columns that are entirely null. Next, we impute the missing values of the columns that have null values with the mean value."
   ]
  },
  {
   "cell_type": "code",
   "execution_count": null,
   "id": "f62d9360-000d-4fbd-a80a-628b8130efd1",
   "metadata": {},
   "outputs": [],
   "source": [
    "for column in df.columns:\n",
    "    if df[column].dtype == 'int64' or df[column].dtype == 'float64':\n",
    "        df[column].fillna(df[column].mean(), inplace = True)"
   ]
  },
  {
   "cell_type": "code",
   "execution_count": 68,
   "id": "868f7765-9a92-4143-b1e6-707b35139c6b",
   "metadata": {},
   "outputs": [
    {
     "name": "stdout",
     "output_type": "stream",
     "text": [
      "<class 'pandas.core.frame.DataFrame'>\n",
      "RangeIndex: 198900 entries, 0 to 198899\n",
      "Data columns (total 26 columns):\n",
      " #   Column                         Non-Null Count   Dtype  \n",
      "---  ------                         --------------   -----  \n",
      " 0   Permit Number                  198900 non-null  object \n",
      " 1   Permit Type                    198900 non-null  int64  \n",
      " 2   Permit Type Definition         198900 non-null  object \n",
      " 3   Block                          198900 non-null  object \n",
      " 4   Lot                            198900 non-null  object \n",
      " 5   Street Number                  198900 non-null  int64  \n",
      " 6   Street Number Suffix           2216 non-null    object \n",
      " 7   Street Name                    198900 non-null  object \n",
      " 8   Street Suffix                  196132 non-null  object \n",
      " 9   Unit                           198900 non-null  float64\n",
      " 10  Unit Suffix                    1961 non-null    object \n",
      " 11  Number of Existing Stories     198900 non-null  float64\n",
      " 12  Number of Proposed Stories     198900 non-null  float64\n",
      " 13  Voluntary Soft-Story Retrofit  35 non-null      object \n",
      " 14  Estimated Cost                 198900 non-null  float64\n",
      " 15  Revised Cost                   198900 non-null  float64\n",
      " 16  Existing Units                 198900 non-null  float64\n",
      " 17  Proposed Units                 198900 non-null  float64\n",
      " 18  Plansets                       198900 non-null  float64\n",
      " 19  TIDF Compliance                2 non-null       object \n",
      " 20  Existing Construction Type     198900 non-null  float64\n",
      " 21  Proposed Construction Type     198900 non-null  float64\n",
      " 22  Supervisor District            198900 non-null  float64\n",
      " 23  Zipcode                        198900 non-null  float64\n",
      " 24  Location                       197200 non-null  object \n",
      " 25  Record ID                      198900 non-null  float64\n",
      "dtypes: float64(13), int64(2), object(11)\n",
      "memory usage: 39.5+ MB\n"
     ]
    }
   ],
   "source": [
    "df.info()"
   ]
  },
  {
   "cell_type": "markdown",
   "id": "90d72bf9-17ca-4e56-a031-1a21fd1a3817",
   "metadata": {},
   "source": [
    "#### Q.6) Calculate the mean and median for the estimated cost and revised cost. What is your observation?"
   ]
  },
  {
   "cell_type": "code",
   "execution_count": 60,
   "id": "3fd8a225-0de4-4469-9c86-fc7a40078fc4",
   "metadata": {},
   "outputs": [
    {
     "name": "stdout",
     "output_type": "stream",
     "text": [
      "Mean of Estimated Cost: 168955.44329681536\n",
      "Median of Estimated Cost: 20000.0\n"
     ]
    }
   ],
   "source": [
    "print('Mean of Estimated Cost:', df['Estimated Cost'].mean())\n",
    "print('Median of Estimated Cost:', df['Estimated Cost'].median())"
   ]
  },
  {
   "cell_type": "code",
   "execution_count": 61,
   "id": "622e6d4e-fe72-4f37-b2e9-55f5e96dd35c",
   "metadata": {},
   "outputs": [
    {
     "name": "stdout",
     "output_type": "stream",
     "text": [
      "Mean of Revised Cost: 132856.1864917494\n",
      "Median of Revised Cost: 8000.0\n"
     ]
    }
   ],
   "source": [
    "print('Mean of Revised Cost:', df['Revised Cost'].mean())\n",
    "print('Median of Revised Cost:', df['Revised Cost'].median())"
   ]
  },
  {
   "cell_type": "markdown",
   "id": "2b1466cb-f5eb-400e-83e9-57019f92f4c1",
   "metadata": {},
   "source": [
    "There is a significant difference between the mean and median of the estimated costs and revised costs. This indicates that the actual costs are much lower than what was initially estimated."
   ]
  },
  {
   "cell_type": "markdown",
   "id": "f132ff63-18d1-4a20-8ac9-c9a2191c20d9",
   "metadata": {},
   "source": [
    "#### Q.7) Create a new cleaned dataframe after applying backward/forward fill with two column names only, namely the Revised cost and the Estimated Cost. Transform the dataframe using the following normalization techniques: min-max scaling and z-score."
   ]
  },
  {
   "cell_type": "code",
   "execution_count": 62,
   "id": "d0669522-205e-4ac8-9d84-f607448a0f31",
   "metadata": {},
   "outputs": [],
   "source": [
    "new_df = df[['Estimated Cost', 'Revised Cost']]"
   ]
  },
  {
   "cell_type": "code",
   "execution_count": 63,
   "id": "d1f38d1f-c987-4f3f-9df0-82b3f8e93727",
   "metadata": {},
   "outputs": [],
   "source": [
    "new_df = new_df.ffill()\n",
    "new_df = new_df.bfill()"
   ]
  },
  {
   "cell_type": "code",
   "execution_count": 64,
   "id": "594feee8-1003-4588-8c1c-5b03fcb2e53a",
   "metadata": {},
   "outputs": [],
   "source": [
    "# min-max\n",
    "mms_df = (new_df - new_df.min()) / (new_df.max() - new_df.min())\n",
    "\n",
    "# z-score\n",
    "zs_df = (new_df - new_df.mean()) / new_df.std()"
   ]
  },
  {
   "cell_type": "code",
   "execution_count": 65,
   "id": "180e04e7-0218-413d-96f8-ebb0ab7badd2",
   "metadata": {},
   "outputs": [
    {
     "data": {
      "text/html": [
       "<div>\n",
       "<style scoped>\n",
       "    .dataframe tbody tr th:only-of-type {\n",
       "        vertical-align: middle;\n",
       "    }\n",
       "\n",
       "    .dataframe tbody tr th {\n",
       "        vertical-align: top;\n",
       "    }\n",
       "\n",
       "    .dataframe thead th {\n",
       "        text-align: right;\n",
       "    }\n",
       "</style>\n",
       "<table border=\"1\" class=\"dataframe\">\n",
       "  <thead>\n",
       "    <tr style=\"text-align: right;\">\n",
       "      <th></th>\n",
       "      <th>Estimated Cost</th>\n",
       "      <th>Revised Cost</th>\n",
       "    </tr>\n",
       "  </thead>\n",
       "  <tbody>\n",
       "    <tr>\n",
       "      <th>0</th>\n",
       "      <td>0.000007</td>\n",
       "      <td>5.124920e-06</td>\n",
       "    </tr>\n",
       "    <tr>\n",
       "      <th>1</th>\n",
       "      <td>0.000000</td>\n",
       "      <td>6.406150e-07</td>\n",
       "    </tr>\n",
       "    <tr>\n",
       "      <th>2</th>\n",
       "      <td>0.000037</td>\n",
       "      <td>1.702193e-04</td>\n",
       "    </tr>\n",
       "    <tr>\n",
       "      <th>3</th>\n",
       "      <td>0.000004</td>\n",
       "      <td>2.562460e-06</td>\n",
       "    </tr>\n",
       "    <tr>\n",
       "      <th>4</th>\n",
       "      <td>0.000186</td>\n",
       "      <td>1.281230e-04</td>\n",
       "    </tr>\n",
       "  </tbody>\n",
       "</table>\n",
       "</div>"
      ],
      "text/plain": [
       "   Estimated Cost  Revised Cost\n",
       "0        0.000007  5.124920e-06\n",
       "1        0.000000  6.406150e-07\n",
       "2        0.000037  1.702193e-04\n",
       "3        0.000004  2.562460e-06\n",
       "4        0.000186  1.281230e-04"
      ]
     },
     "execution_count": 65,
     "metadata": {},
     "output_type": "execute_result"
    }
   ],
   "source": [
    "mms_df.head(5)"
   ]
  },
  {
   "cell_type": "code",
   "execution_count": 66,
   "id": "7b527255-ebf0-4998-bfc4-3b25a3f60529",
   "metadata": {},
   "outputs": [
    {
     "data": {
      "text/html": [
       "<div>\n",
       "<style scoped>\n",
       "    .dataframe tbody tr th:only-of-type {\n",
       "        vertical-align: middle;\n",
       "    }\n",
       "\n",
       "    .dataframe tbody tr th {\n",
       "        vertical-align: top;\n",
       "    }\n",
       "\n",
       "    .dataframe thead th {\n",
       "        text-align: right;\n",
       "    }\n",
       "</style>\n",
       "<table border=\"1\" class=\"dataframe\">\n",
       "  <thead>\n",
       "    <tr style=\"text-align: right;\">\n",
       "      <th></th>\n",
       "      <th>Estimated Cost</th>\n",
       "      <th>Revised Cost</th>\n",
       "    </tr>\n",
       "  </thead>\n",
       "  <tbody>\n",
       "    <tr>\n",
       "      <th>0</th>\n",
       "      <td>-0.050529</td>\n",
       "      <td>-3.650510e-02</td>\n",
       "    </tr>\n",
       "    <tr>\n",
       "      <th>1</th>\n",
       "      <td>-0.051754</td>\n",
       "      <td>-3.749665e-02</td>\n",
       "    </tr>\n",
       "    <tr>\n",
       "      <th>2</th>\n",
       "      <td>-0.045628</td>\n",
       "      <td>-4.592547e-15</td>\n",
       "    </tr>\n",
       "    <tr>\n",
       "      <th>3</th>\n",
       "      <td>-0.051142</td>\n",
       "      <td>-3.707170e-02</td>\n",
       "    </tr>\n",
       "    <tr>\n",
       "      <th>4</th>\n",
       "      <td>-0.021122</td>\n",
       "      <td>-9.308194e-03</td>\n",
       "    </tr>\n",
       "  </tbody>\n",
       "</table>\n",
       "</div>"
      ],
      "text/plain": [
       "   Estimated Cost  Revised Cost\n",
       "0       -0.050529 -3.650510e-02\n",
       "1       -0.051754 -3.749665e-02\n",
       "2       -0.045628 -4.592547e-15\n",
       "3       -0.051142 -3.707170e-02\n",
       "4       -0.021122 -9.308194e-03"
      ]
     },
     "execution_count": 66,
     "metadata": {},
     "output_type": "execute_result"
    }
   ],
   "source": [
    "zs_df.head(5)"
   ]
  }
 ],
 "metadata": {
  "kernelspec": {
   "display_name": "Python 3 (ipykernel)",
   "language": "python",
   "name": "python3"
  },
  "language_info": {
   "codemirror_mode": {
    "name": "ipython",
    "version": 3
   },
   "file_extension": ".py",
   "mimetype": "text/x-python",
   "name": "python",
   "nbconvert_exporter": "python",
   "pygments_lexer": "ipython3",
   "version": "3.12.7"
  }
 },
 "nbformat": 4,
 "nbformat_minor": 5
}
