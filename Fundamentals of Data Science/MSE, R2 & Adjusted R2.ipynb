{
 "cells": [
  {
   "cell_type": "markdown",
   "metadata": {},
   "source": [
    "## MSE, R2 & Adjusted R2"
   ]
  },
  {
   "cell_type": "markdown",
   "metadata": {},
   "source": [
    "#### Import Libraries"
   ]
  },
  {
   "cell_type": "code",
   "execution_count": 3,
   "metadata": {},
   "outputs": [],
   "source": [
    "import pandas as pd\n",
    "import numpy as np\n",
    "import matplotlib.pyplot as plt\n",
    "import sklearn\n",
    "from sklearn.model_selection import train_test_split\n",
    "from sklearn.linear_model import LinearRegression\n",
    "from sklearn.metrics import mean_squared_error\n",
    "from sklearn.metrics import r2_score"
   ]
  },
  {
   "cell_type": "markdown",
   "metadata": {},
   "source": [
    "#### Load Dataset"
   ]
  },
  {
   "cell_type": "code",
   "execution_count": 3,
   "metadata": {},
   "outputs": [],
   "source": [
    "df = pd.read_csv(\"Advertising.csv\")"
   ]
  },
  {
   "cell_type": "code",
   "execution_count": 4,
   "metadata": {},
   "outputs": [
    {
     "data": {
      "text/html": [
       "<div>\n",
       "<style scoped>\n",
       "    .dataframe tbody tr th:only-of-type {\n",
       "        vertical-align: middle;\n",
       "    }\n",
       "\n",
       "    .dataframe tbody tr th {\n",
       "        vertical-align: top;\n",
       "    }\n",
       "\n",
       "    .dataframe thead th {\n",
       "        text-align: right;\n",
       "    }\n",
       "</style>\n",
       "<table border=\"1\" class=\"dataframe\">\n",
       "  <thead>\n",
       "    <tr style=\"text-align: right;\">\n",
       "      <th></th>\n",
       "      <th>Unnamed: 0</th>\n",
       "      <th>TV</th>\n",
       "      <th>Radio</th>\n",
       "      <th>Newspaper</th>\n",
       "      <th>Sales</th>\n",
       "    </tr>\n",
       "  </thead>\n",
       "  <tbody>\n",
       "    <tr>\n",
       "      <th>0</th>\n",
       "      <td>1</td>\n",
       "      <td>230.1</td>\n",
       "      <td>37.8</td>\n",
       "      <td>69.2</td>\n",
       "      <td>22.1</td>\n",
       "    </tr>\n",
       "    <tr>\n",
       "      <th>1</th>\n",
       "      <td>2</td>\n",
       "      <td>44.5</td>\n",
       "      <td>39.3</td>\n",
       "      <td>45.1</td>\n",
       "      <td>10.4</td>\n",
       "    </tr>\n",
       "    <tr>\n",
       "      <th>2</th>\n",
       "      <td>3</td>\n",
       "      <td>17.2</td>\n",
       "      <td>45.9</td>\n",
       "      <td>69.3</td>\n",
       "      <td>9.3</td>\n",
       "    </tr>\n",
       "    <tr>\n",
       "      <th>3</th>\n",
       "      <td>4</td>\n",
       "      <td>151.5</td>\n",
       "      <td>41.3</td>\n",
       "      <td>58.5</td>\n",
       "      <td>18.5</td>\n",
       "    </tr>\n",
       "    <tr>\n",
       "      <th>4</th>\n",
       "      <td>5</td>\n",
       "      <td>180.8</td>\n",
       "      <td>10.8</td>\n",
       "      <td>58.4</td>\n",
       "      <td>12.9</td>\n",
       "    </tr>\n",
       "  </tbody>\n",
       "</table>\n",
       "</div>"
      ],
      "text/plain": [
       "   Unnamed: 0     TV  Radio  Newspaper  Sales\n",
       "0           1  230.1   37.8       69.2   22.1\n",
       "1           2   44.5   39.3       45.1   10.4\n",
       "2           3   17.2   45.9       69.3    9.3\n",
       "3           4  151.5   41.3       58.5   18.5\n",
       "4           5  180.8   10.8       58.4   12.9"
      ]
     },
     "execution_count": 4,
     "metadata": {},
     "output_type": "execute_result"
    }
   ],
   "source": [
    "df.head()"
   ]
  },
  {
   "cell_type": "code",
   "execution_count": 5,
   "metadata": {},
   "outputs": [
    {
     "data": {
      "text/html": [
       "<div>\n",
       "<style scoped>\n",
       "    .dataframe tbody tr th:only-of-type {\n",
       "        vertical-align: middle;\n",
       "    }\n",
       "\n",
       "    .dataframe tbody tr th {\n",
       "        vertical-align: top;\n",
       "    }\n",
       "\n",
       "    .dataframe thead th {\n",
       "        text-align: right;\n",
       "    }\n",
       "</style>\n",
       "<table border=\"1\" class=\"dataframe\">\n",
       "  <thead>\n",
       "    <tr style=\"text-align: right;\">\n",
       "      <th></th>\n",
       "      <th>Unnamed: 0</th>\n",
       "      <th>TV</th>\n",
       "      <th>Radio</th>\n",
       "      <th>Newspaper</th>\n",
       "      <th>Sales</th>\n",
       "    </tr>\n",
       "  </thead>\n",
       "  <tbody>\n",
       "    <tr>\n",
       "      <th>195</th>\n",
       "      <td>196</td>\n",
       "      <td>38.2</td>\n",
       "      <td>3.7</td>\n",
       "      <td>13.8</td>\n",
       "      <td>7.6</td>\n",
       "    </tr>\n",
       "    <tr>\n",
       "      <th>196</th>\n",
       "      <td>197</td>\n",
       "      <td>94.2</td>\n",
       "      <td>4.9</td>\n",
       "      <td>8.1</td>\n",
       "      <td>9.7</td>\n",
       "    </tr>\n",
       "    <tr>\n",
       "      <th>197</th>\n",
       "      <td>198</td>\n",
       "      <td>177.0</td>\n",
       "      <td>9.3</td>\n",
       "      <td>6.4</td>\n",
       "      <td>12.8</td>\n",
       "    </tr>\n",
       "    <tr>\n",
       "      <th>198</th>\n",
       "      <td>199</td>\n",
       "      <td>283.6</td>\n",
       "      <td>42.0</td>\n",
       "      <td>66.2</td>\n",
       "      <td>25.5</td>\n",
       "    </tr>\n",
       "    <tr>\n",
       "      <th>199</th>\n",
       "      <td>200</td>\n",
       "      <td>232.1</td>\n",
       "      <td>8.6</td>\n",
       "      <td>8.7</td>\n",
       "      <td>13.4</td>\n",
       "    </tr>\n",
       "  </tbody>\n",
       "</table>\n",
       "</div>"
      ],
      "text/plain": [
       "     Unnamed: 0     TV  Radio  Newspaper  Sales\n",
       "195         196   38.2    3.7       13.8    7.6\n",
       "196         197   94.2    4.9        8.1    9.7\n",
       "197         198  177.0    9.3        6.4   12.8\n",
       "198         199  283.6   42.0       66.2   25.5\n",
       "199         200  232.1    8.6        8.7   13.4"
      ]
     },
     "execution_count": 5,
     "metadata": {},
     "output_type": "execute_result"
    }
   ],
   "source": [
    "df.tail()"
   ]
  },
  {
   "cell_type": "code",
   "execution_count": 6,
   "metadata": {},
   "outputs": [
    {
     "name": "stdout",
     "output_type": "stream",
     "text": [
      "<class 'pandas.core.frame.DataFrame'>\n",
      "RangeIndex: 200 entries, 0 to 199\n",
      "Data columns (total 5 columns):\n",
      " #   Column      Non-Null Count  Dtype  \n",
      "---  ------      --------------  -----  \n",
      " 0   Unnamed: 0  200 non-null    int64  \n",
      " 1   TV          200 non-null    float64\n",
      " 2   Radio       200 non-null    float64\n",
      " 3   Newspaper   200 non-null    float64\n",
      " 4   Sales       200 non-null    float64\n",
      "dtypes: float64(4), int64(1)\n",
      "memory usage: 7.9 KB\n"
     ]
    }
   ],
   "source": [
    "df.info()"
   ]
  },
  {
   "cell_type": "code",
   "execution_count": 12,
   "metadata": {},
   "outputs": [],
   "source": [
    "# dropping unwanted column\n",
    "df.drop('Unnamed: 0', axis = 1, inplace = True)"
   ]
  },
  {
   "cell_type": "code",
   "execution_count": 14,
   "metadata": {},
   "outputs": [
    {
     "data": {
      "text/html": [
       "<div>\n",
       "<style scoped>\n",
       "    .dataframe tbody tr th:only-of-type {\n",
       "        vertical-align: middle;\n",
       "    }\n",
       "\n",
       "    .dataframe tbody tr th {\n",
       "        vertical-align: top;\n",
       "    }\n",
       "\n",
       "    .dataframe thead th {\n",
       "        text-align: right;\n",
       "    }\n",
       "</style>\n",
       "<table border=\"1\" class=\"dataframe\">\n",
       "  <thead>\n",
       "    <tr style=\"text-align: right;\">\n",
       "      <th></th>\n",
       "      <th>TV</th>\n",
       "      <th>Radio</th>\n",
       "      <th>Newspaper</th>\n",
       "      <th>Sales</th>\n",
       "    </tr>\n",
       "  </thead>\n",
       "  <tbody>\n",
       "    <tr>\n",
       "      <th>0</th>\n",
       "      <td>230.1</td>\n",
       "      <td>37.8</td>\n",
       "      <td>69.2</td>\n",
       "      <td>22.1</td>\n",
       "    </tr>\n",
       "    <tr>\n",
       "      <th>1</th>\n",
       "      <td>44.5</td>\n",
       "      <td>39.3</td>\n",
       "      <td>45.1</td>\n",
       "      <td>10.4</td>\n",
       "    </tr>\n",
       "    <tr>\n",
       "      <th>2</th>\n",
       "      <td>17.2</td>\n",
       "      <td>45.9</td>\n",
       "      <td>69.3</td>\n",
       "      <td>9.3</td>\n",
       "    </tr>\n",
       "    <tr>\n",
       "      <th>3</th>\n",
       "      <td>151.5</td>\n",
       "      <td>41.3</td>\n",
       "      <td>58.5</td>\n",
       "      <td>18.5</td>\n",
       "    </tr>\n",
       "    <tr>\n",
       "      <th>4</th>\n",
       "      <td>180.8</td>\n",
       "      <td>10.8</td>\n",
       "      <td>58.4</td>\n",
       "      <td>12.9</td>\n",
       "    </tr>\n",
       "  </tbody>\n",
       "</table>\n",
       "</div>"
      ],
      "text/plain": [
       "      TV  Radio  Newspaper  Sales\n",
       "0  230.1   37.8       69.2   22.1\n",
       "1   44.5   39.3       45.1   10.4\n",
       "2   17.2   45.9       69.3    9.3\n",
       "3  151.5   41.3       58.5   18.5\n",
       "4  180.8   10.8       58.4   12.9"
      ]
     },
     "execution_count": 14,
     "metadata": {},
     "output_type": "execute_result"
    }
   ],
   "source": [
    "df.head()"
   ]
  },
  {
   "cell_type": "markdown",
   "metadata": {},
   "source": [
    "-----------------------"
   ]
  },
  {
   "cell_type": "markdown",
   "metadata": {},
   "source": [
    "**ques 1. Create three well labelled scatterplots of this data with TV, Radio and News paper on the x-axis and Sales on the y-axis, and describe the relationship you see. The scatterplot colour should be red, blue and green respectively. Add suitable labels and title to the plot.**"
   ]
  },
  {
   "cell_type": "code",
   "execution_count": 10,
   "metadata": {},
   "outputs": [
    {
     "data": {
      "text/plain": [
       "[]"
      ]
     },
     "execution_count": 10,
     "metadata": {},
     "output_type": "execute_result"
    },
    {
     "data": {
      "image/png": "[encoded data removed]",
      "text/plain": [
       "<Figure size 640x480 with 1 Axes>"
      ]
     },
     "metadata": {},
     "output_type": "display_data"
    }
   ],
   "source": [
    "# scatterplot for TV vs Sales\n",
    "plt.scatter(df['TV'], df['Sales'], color = 'red')\n",
    "plt.xlabel('TV')\n",
    "plt.ylabel('Sales')\n",
    "plt.title('TV vs Sales')\n",
    "plt.plot()"
   ]
  },
  {
   "cell_type": "code",
   "execution_count": 11,
   "metadata": {},
   "outputs": [
    {
     "data": {
      "text/plain": [
       "[]"
      ]
     },
     "execution_count": 11,
     "metadata": {},
     "output_type": "execute_result"
    },
    {
     "data": {
      "image/png": "[encoded data removed]",
      "text/plain": [
       "<Figure size 640x480 with 1 Axes>"
      ]
     },
     "metadata": {},
     "output_type": "display_data"
    }
   ],
   "source": [
    "# scatterplot for Radio vs Sales\n",
    "plt.scatter(df['Radio'], df['Sales'], color = 'blue')\n",
    "plt.xlabel('Radio')\n",
    "plt.ylabel('Sales')\n",
    "plt.title('Radio vs Sales')\n",
    "plt.plot()"
   ]
  },
  {
   "cell_type": "code",
   "execution_count": 12,
   "metadata": {},
   "outputs": [
    {
     "data": {
      "text/plain": [
       "[]"
      ]
     },
     "execution_count": 12,
     "metadata": {},
     "output_type": "execute_result"
    },
    {
     "data": {
      "image/png": "[encoded data removed]",
      "text/plain": [
       "<Figure size 640x480 with 1 Axes>"
      ]
     },
     "metadata": {},
     "output_type": "display_data"
    }
   ],
   "source": [
    "# scatterplot for Newspaper vs Sales\n",
    "plt.scatter(df['Newspaper'], df['Sales'], color = 'green')\n",
    "plt.xlabel('News')\n",
    "plt.ylabel('Sales')\n",
    "plt.title('News vs Sales')\n",
    "plt.plot()"
   ]
  },
  {
   "cell_type": "markdown",
   "metadata": {},
   "source": [
    "--------------------"
   ]
  },
  {
   "cell_type": "markdown",
   "metadata": {},
   "source": [
    "**ques 2. In the scatterplot you made, what is the explanatory variable? What is the response variable? Why might you want to construct the problem in this way?**"
   ]
  },
  {
   "cell_type": "markdown",
   "metadata": {},
   "source": [
    "ans. For the first, second and third plots, the explanatory variables are TV, Radio and News advertising data respectively and the response variable is Sales for all the three plots. We might want to construct the problem in this way to visualize what indepenedent variables or factors are correlated with the depenedent variabeles, which in this case, is Sales. Visualizing is an easy and foolproof way to get quick information about the data."
   ]
  },
  {
   "cell_type": "markdown",
   "metadata": {},
   "source": [
    "-------------------------"
   ]
  },
  {
   "cell_type": "markdown",
   "metadata": {},
   "source": [
    "**ques 3. Compute Pearson’s correlation coefficient between sales and each of the independent variables. What is your observation?**"
   ]
  },
  {
   "cell_type": "code",
   "execution_count": 18,
   "metadata": {},
   "outputs": [
    {
     "name": "stdout",
     "output_type": "stream",
     "text": [
      "Pearson’s correlation coefficient for Sales and TV - 0.78\n",
      "Pearson’s correlation coefficient for Sales and Radio - 0.58\n",
      "Pearson’s correlation coefficient for Sales and Newspaper - 0.23\n"
     ]
    }
   ],
   "source": [
    "n = len(df)\n",
    "\n",
    "# sales vs TV\n",
    "df1 = df[['Sales', 'TV']]\n",
    "corr_df1 = df1.corr()\n",
    "c1 = corr_df1.iloc[0, 1]\n",
    "\n",
    "# sales vs radio\n",
    "df2 = df[['Sales', 'Radio']]\n",
    "corr_df2 = df2.corr()\n",
    "c2 = corr_df2.iloc[0, 1]\n",
    "\n",
    "# sales vs news\n",
    "df3 = df[['Sales', 'Newspaper']]\n",
    "corr_df3 = df3.corr()\n",
    "c3 = corr_df3.iloc[0, 1]\n",
    "\n",
    "print(\"Pearson’s correlation coefficient for Sales and TV - {:.2f}\".format(c1))\n",
    "print(\"Pearson’s correlation coefficient for Sales and Radio - {:.2f}\".format(c2))\n",
    "print(\"Pearson’s correlation coefficient for Sales and Newspaper - {:.2f}\".format(c3))"
   ]
  },
  {
   "cell_type": "markdown",
   "metadata": {},
   "source": [
    "ans. We can infer from the correlation coefficient values that all three correlations are positive. Sales vs TV can be said to be strongly positively correlated, Sales vs Radio can be said to be not strongly positively correlated and finally, Sales vs Newspaper can be said to be weakly positively correlated."
   ]
  },
  {
   "cell_type": "markdown",
   "metadata": {},
   "source": [
    "---------------------"
   ]
  },
  {
   "cell_type": "markdown",
   "metadata": {},
   "source": [
    "**ques 4. Split the data into train (80%) and test (20%) (without shuffling). Fit a simple linear regression model on the train data for the three independent variables separately and assess the accuracy of the model in terms of MSE (train and test). Which independent variable contributes to accurate prediction of Sales?**"
   ]
  },
  {
   "cell_type": "code",
   "execution_count": 27,
   "metadata": {},
   "outputs": [],
   "source": [
    "X_tv = df[['TV']]\n",
    "X_radio = df[['Radio']]\n",
    "X_news = df[['Newspaper']]\n",
    "\n",
    "y = df['Sales']"
   ]
  },
  {
   "cell_type": "code",
   "execution_count": 24,
   "metadata": {},
   "outputs": [
    {
     "name": "stdout",
     "output_type": "stream",
     "text": [
      "MSE for Training (Sales vs TV) - 9.700\n",
      "MSE for Testing (Sales vs TV) - 14.129\n",
      "\n",
      "MSE for Training (Sales vs Radio) - 19.063\n",
      "MSE for Testing (Sales vs Radio) - 14.440\n",
      "\n",
      "MSE for Training (Sales vs News) - 26.027\n",
      "MSE for Testing (Sales vs News) - 24.355\n"
     ]
    }
   ],
   "source": [
    "# independend variable - TV\n",
    "X_train, X_test, y_train, y_test = train_test_split(\n",
    "                                   X_tv, y, test_size = 0.2, \n",
    "                                   shuffle = False)\n",
    "# model fitting\n",
    "lr = LinearRegression()\n",
    "lr.fit(X_train, y_train)\n",
    "\n",
    "# getting mse\n",
    "y_train_pred_tv = lr.predict(X_train)\n",
    "y_test_pred_tv = lr.predict(X_test)\n",
    "mse_train_tv = mean_squared_error(y_train, y_train_pred_tv)\n",
    "mse_test_tv = mean_squared_error(y_test, y_test_pred_tv)\n",
    "\n",
    "\n",
    "# independend variable - Radio\n",
    "X_train, X_test, y_train, y_test = train_test_split(\n",
    "                                   X_radio, y, test_size = 0.2, \n",
    "                                   shuffle = False)\n",
    "# model fitting\n",
    "lr = LinearRegression()\n",
    "lr.fit(X_train, y_train)\n",
    "\n",
    "# getting mse\n",
    "y_train_pred_radio = lr.predict(X_train)\n",
    "y_test_pred_radio = lr.predict(X_test)\n",
    "mse_train_radio = mean_squared_error(y_train, y_train_pred_radio)\n",
    "mse_test_radio = mean_squared_error(y_test, y_test_pred_radio)\n",
    "\n",
    "\n",
    "# independend variable - News\n",
    "X_train, X_test, y_train, y_test = train_test_split(\n",
    "                                   X_news, y, test_size = 0.2, \n",
    "                                   shuffle = False)\n",
    "# model fitting\n",
    "lr = LinearRegression()\n",
    "lr.fit(X_train, y_train)\n",
    "\n",
    "# getting mse\n",
    "y_train_pred_news = lr.predict(X_train)\n",
    "y_test_pred_news = lr.predict(X_test)\n",
    "\n",
    "mse_train_news = mean_squared_error(y_train, y_train_pred_news)\n",
    "mse_test_news = mean_squared_error(y_test, y_test_pred_news)\n",
    "\n",
    "\n",
    "print(\"MSE for Training (Sales vs TV) - {:.3f}\".format(mse_train_tv))\n",
    "print(\"MSE for Testing (Sales vs TV) - {:.3f}\".format(mse_test_tv))\n",
    "print()\n",
    "print(\"MSE for Training (Sales vs Radio) - {:.3f}\".format(mse_train_radio))\n",
    "print(\"MSE for Testing (Sales vs Radio) - {:.3f}\".format(mse_test_radio))\n",
    "print()\n",
    "print(\"MSE for Training (Sales vs News) - {:.3f}\".format(mse_train_news))\n",
    "print(\"MSE for Testing (Sales vs News) - {:.3f}\".format(mse_test_news))"
   ]
  },
  {
   "cell_type": "markdown",
   "metadata": {},
   "source": [
    "ans. The model with the least MSE will be the one that provides accurate prediction of Sales. From the MSE scores, it is clear that the independent variable TV gives the least MSE value for both training and testing compared to the remaining two independent variables. Therefore we can conclude that the independent variable TV contributes to more accurate prediction of Sales."
   ]
  },
  {
   "cell_type": "markdown",
   "metadata": {},
   "source": [
    "_____________________"
   ]
  },
  {
   "cell_type": "markdown",
   "metadata": {},
   "source": [
    "**ques 5. Fit multiple linear regression model on the train data for the different possible combinations of the three independent variables and assess the accuracy of the model in terms of MSE (train and test). Which combination contributes to accurate prediction of Sales?**"
   ]
  },
  {
   "cell_type": "markdown",
   "metadata": {},
   "source": [
    "ans. Since we have 3 independent variables, we can have 4 different combinations. These will be:<br>\n",
    "1. TV, Radio & Sales (2 independent variables)\n",
    "2. Radio, News & Sales (2 independent variables)\n",
    "3. News, TV & Sales (2 independent variables)\n",
    "4. TV, Radio, News & Sales (3 independent variables)"
   ]
  },
  {
   "cell_type": "code",
   "execution_count": 31,
   "metadata": {},
   "outputs": [],
   "source": [
    "X_tv_radio = df[['TV', 'Radio']]\n",
    "X_radio_news = df[['Radio', 'Newspaper']]\n",
    "X_news_tv = df[['Newspaper', 'TV']]\n",
    "X = df[['TV', 'Radio', 'Newspaper']]\n",
    "\n",
    "y = df['Sales']"
   ]
  },
  {
   "cell_type": "code",
   "execution_count": 33,
   "metadata": {},
   "outputs": [
    {
     "name": "stdout",
     "output_type": "stream",
     "text": [
      "MSE for Training (TV, Radio & Sales) - 2.82216\n",
      "MSE for Testing (TV, Radio & Sales) - 2.79309\n",
      "\n",
      "MSE for Training (Radio, News & Sales) - 19.06327\n",
      "MSE for Testing (Radio, News & Sales) - 14.43136\n",
      "\n",
      "MSE for Training (News, TV & Sales) - 8.77968\n",
      "MSE for Testing (News, TV & Sales) - 13.10335\n",
      "\n",
      "MSE for Training (TV, Radio, News & Sales) - 2.82179\n",
      "MSE for Testing (TV, Radio, News & Sales) - 2.79115\n"
     ]
    }
   ],
   "source": [
    "# TV, Radio & Sales (2 independent variables)\n",
    "X_train, X_test, y_train, y_test = train_test_split(\n",
    "                                   X_tv_radio, y, test_size = 0.2, \n",
    "                                   shuffle = False)\n",
    "\n",
    "lr = LinearRegression()\n",
    "lr.fit(X_train, y_train)\n",
    "\n",
    "y_train_pred_tv_radio = lr.predict(X_train)\n",
    "y_test_pred_tv_radio = lr.predict(X_test)\n",
    "mse_train_tv_radio = mean_squared_error(y_train, y_train_pred_tv_radio)\n",
    "mse_test_tv_radio = mean_squared_error(y_test, y_test_pred_tv_radio)\n",
    "\n",
    "\n",
    "# Radio, News & Sales (2 independent variables)\n",
    "X_train, X_test, y_train, y_test = train_test_split(\n",
    "                                   X_radio_news, y, test_size = 0.2, \n",
    "                                   shuffle = False)\n",
    "\n",
    "lr = LinearRegression()\n",
    "lr.fit(X_train, y_train)\n",
    "\n",
    "y_train_pred_radio_news = lr.predict(X_train)\n",
    "y_test_pred_radio_news = lr.predict(X_test)\n",
    "mse_train_radio_news = mean_squared_error(y_train, y_train_pred_radio_news)\n",
    "mse_test_radio_news = mean_squared_error(y_test, y_test_pred_radio_news)\n",
    "\n",
    "\n",
    "# News, TV & Sales (2 independent variables)\n",
    "X_train, X_test, y_train, y_test = train_test_split(\n",
    "                                   X_news_tv, y, test_size = 0.2, \n",
    "                                   shuffle = False)\n",
    "\n",
    "lr = LinearRegression()\n",
    "lr.fit(X_train, y_train)\n",
    "\n",
    "y_train_pred_news_tv = lr.predict(X_train)\n",
    "y_test_pred_news_tv = lr.predict(X_test)\n",
    "mse_train_news_tv = mean_squared_error(y_train, y_train_pred_news_tv)\n",
    "mse_test_news_tv = mean_squared_error(y_test, y_test_pred_news_tv)\n",
    "\n",
    "\n",
    "# TV, Radio, News & Sales (3 independent variables)\n",
    "X_train, X_test, y_train, y_test = train_test_split(\n",
    "                                   X, y, test_size = 0.2, \n",
    "                                   shuffle = False)\n",
    "\n",
    "lr = LinearRegression()\n",
    "lr.fit(X_train, y_train)\n",
    "\n",
    "y_train_pred = lr.predict(X_train)\n",
    "mse_train = mean_squared_error(y_train, y_train_pred)\n",
    "y_test_pred = lr.predict(X_test)\n",
    "mse_test = mean_squared_error(y_test, y_test_pred)\n",
    "\n",
    "\n",
    "print(\"MSE for Training (TV, Radio & Sales) - {:.5f}\".format(mse_train_tv_radio))\n",
    "print(\"MSE for Testing (TV, Radio & Sales) - {:.5f}\".format(mse_test_tv_radio))\n",
    "print()\n",
    "print(\"MSE for Training (Radio, News & Sales) - {:.5f}\".format(mse_train_radio_news))\n",
    "print(\"MSE for Testing (Radio, News & Sales) - {:.5f}\".format(mse_test_radio_news))\n",
    "print()\n",
    "print(\"MSE for Training (News, TV & Sales) - {:.5f}\".format(mse_train_news_tv))\n",
    "print(\"MSE for Testing (News, TV & Sales) - {:.5f}\".format(mse_test_news_tv))\n",
    "print()\n",
    "print(\"MSE for Training (TV, Radio, News & Sales) - {:.5f}\".format(mse_train))\n",
    "print(\"MSE for Testing (TV, Radio, News & Sales) - {:.5f}\".format(mse_test))"
   ]
  },
  {
   "cell_type": "markdown",
   "metadata": {},
   "source": [
    "We can conclude that the model built using the combination of all the independent variables leads to a better model. This is due to the fact that we have the least MSE for both training and testing."
   ]
  },
  {
   "cell_type": "markdown",
   "metadata": {},
   "source": [
    "___________________"
   ]
  },
  {
   "cell_type": "markdown",
   "metadata": {},
   "source": [
    "**ques 6. What is the difference between R2 and Adjusted R2? Comment**"
   ]
  },
  {
   "cell_type": "markdown",
   "metadata": {},
   "source": [
    "ans. R2, or the coefficient of determination, quantifies how well the independent variables explain the variance in the dependent variable. However, it tends to increase with the addition of predictors, even if they don't contribute meaningfully to the model. Adjusted R2 addresses this limitation by incorporating a penalty for adding predictors that don’t improve the model's explanatory power. It adjusts based on the number of predictors and sample size, providing a more accurate reflection of model performance. While R2 is useful for evaluating model fit, Adjusted R2 is better for comparing models with different numbers of predictors, ensuring parsimony and reliability."
   ]
  },
  {
   "cell_type": "markdown",
   "metadata": {},
   "source": [
    "__________________"
   ]
  },
  {
   "cell_type": "markdown",
   "metadata": {},
   "source": [
    "**ques 7. Give your final comments on which model linear or multiple linear is apt for accurate prediction of sales based on MSE values for train and test and R2, Adjusted-R2 values.**"
   ]
  },
  {
   "cell_type": "markdown",
   "metadata": {},
   "source": [
    "ans. So we will be calculating r2 and adjusted r2 values for all the four combinations and check which is the best model.\n",
    "\n",
    "> **Variable Lookup Table** <br><br>\n",
    "> r2_1, adjusted_r2_1 - independent variables: TV & Radio <br>\n",
    "> r2_2, adjusted_r2_2 - independent variables: Radio & News <br>\n",
    "> r2_3, adjusted_r2_2 - independent variables: News & TV <br>\n",
    "> r2_all, adjusted_r2_all - independent variables: TV, Radio & News"
   ]
  },
  {
   "cell_type": "code",
   "execution_count": 46,
   "metadata": {},
   "outputs": [
    {
     "name": "stdout",
     "output_type": "stream",
     "text": [
      "R2 score the model TV & Radio vs Sales - 0.89552\n",
      "Adjusted R2 score the model TV & Radio vs Sales - 0.88987\n"
     ]
    }
   ],
   "source": [
    "# independent variables: TV & Radio\n",
    "X_train, X_test, y_train, y_test = train_test_split(\n",
    "                                   X_tv_radio, y, test_size = 0.2, \n",
    "                                   shuffle = False)\n",
    "lr = LinearRegression()\n",
    "lr.fit(X_train, y_train)\n",
    "y_test_pred = lr.predict(X_test)\n",
    "\n",
    "# calculating r2\n",
    "y_arr = np.array(y)\n",
    "ss_explained = sum((y_test_pred - y_test.mean()) ** 2)\n",
    "ss_residual = sum((y_test - y_test_pred) ** 2)\n",
    "ss_total = sum((y_test - y.mean()) ** 2)\n",
    "r2_1 = 1 - (ss_residual / ss_total)\n",
    "\n",
    "# calculating adjusted r2\n",
    "n = len(y_test)\n",
    "p = 2 # number of independant variables\n",
    "adjusted_r2_1 = 1 - (((1 - r2_1) * (n - 1)) / (n - p - 1))\n",
    "\n",
    "print(\"R2 score the model TV & Radio vs Sales - {:.5f}\".format(r2_1))\n",
    "print(\"Adjusted R2 score the model TV & Radio vs Sales - {:.5f}\".format(adjusted_r2_1))"
   ]
  },
  {
   "cell_type": "code",
   "execution_count": 48,
   "metadata": {},
   "outputs": [
    {
     "name": "stdout",
     "output_type": "stream",
     "text": [
      "R2 score the model Radio & News vs Sales - 0.46015\n",
      "Adjusted R2 score the model Radio & News vs Sales - 0.43097\n"
     ]
    }
   ],
   "source": [
    "# independent variables: Radio & News\n",
    "X_train, X_test, y_train, y_test = train_test_split(\n",
    "                                   X_radio_news, y, test_size = 0.2, \n",
    "                                   shuffle = False)\n",
    "lr = LinearRegression()\n",
    "lr.fit(X_train, y_train)\n",
    "y_test_pred = lr.predict(X_test)\n",
    "\n",
    "# calculating r2\n",
    "y_arr = np.array(y)\n",
    "ss_explained = sum((y_test_pred - y_test.mean()) ** 2)\n",
    "ss_residual = sum((y_test - y_test_pred) ** 2)\n",
    "ss_total = sum((y_test - y.mean()) ** 2)\n",
    "r2_2 = 1 - (ss_residual / ss_total)\n",
    "\n",
    "# calculating adjusted r2\n",
    "n = len(y_test)\n",
    "p = 2 # number of independant variables\n",
    "adjusted_r2_2 = 1 - (((1 - r2_2) * (n - 1)) / (n - p - 1))\n",
    "\n",
    "print(\"R2 score the model Radio & News vs Sales - {:.5f}\".format(r2_2))\n",
    "print(\"Adjusted R2 score the model Radio & News vs Sales - {:.5f}\".format(adjusted_r2_2))"
   ]
  },
  {
   "cell_type": "code",
   "execution_count": 50,
   "metadata": {},
   "outputs": [
    {
     "name": "stdout",
     "output_type": "stream",
     "text": [
      "R2 score the model News & TV vs Sales - 0.50983\n",
      "Adjusted R2 score the model News & TV vs Sales - 0.48333\n"
     ]
    }
   ],
   "source": [
    "# independent variables: News & TV\n",
    "X_train, X_test, y_train, y_test = train_test_split(\n",
    "                                   X_news_tv, y, test_size = 0.2, \n",
    "                                   shuffle = False)\n",
    "lr = LinearRegression()\n",
    "lr.fit(X_train, y_train)\n",
    "y_test_pred = lr.predict(X_test)\n",
    "\n",
    "# calculating r2\n",
    "y_arr = np.array(y)\n",
    "ss_explained = sum((y_test_pred - y_test.mean()) ** 2)\n",
    "ss_residual = sum((y_test - y_test_pred) ** 2)\n",
    "ss_total = sum((y_test - y.mean()) ** 2)\n",
    "r2_3 = 1 - (ss_residual / ss_total)\n",
    "\n",
    "# calculating adjusted r2\n",
    "n = len(y_test)\n",
    "p = 2 # number of independant variables\n",
    "adjusted_r2_3 = 1 - (((1 - r2_3) * (n - 1)) / (n - p - 1))\n",
    "\n",
    "print(\"R2 score the model News & TV vs Sales - {:.5f}\".format(r2_3))\n",
    "print(\"Adjusted R2 score the model News & TV vs Sales - {:.5f}\".format(adjusted_r2_3))"
   ]
  },
  {
   "cell_type": "code",
   "execution_count": 52,
   "metadata": {},
   "outputs": [
    {
     "name": "stdout",
     "output_type": "stream",
     "text": [
      "R2 score for the model TV, Radio & News vs Sales - 0.89559\n",
      "Adjusted R2 score for the model TV, Radio & News vs Sales - 0.88689\n"
     ]
    }
   ],
   "source": [
    "# independent variables: TV, Radio & News\n",
    "X_train, X_test, y_train, y_test = train_test_split(\n",
    "                                   X, y, test_size = 0.2, \n",
    "                                   shuffle = False)\n",
    "lr = LinearRegression()\n",
    "lr.fit(X_train, y_train)\n",
    "y_test_pred = lr.predict(X_test)\n",
    "\n",
    "# calculating r2\n",
    "y_arr = np.array(y)\n",
    "ss_explained = sum((y_test_pred - y_test.mean()) ** 2)\n",
    "ss_residual = sum((y_test - y_test_pred) ** 2)\n",
    "ss_total = sum((y_test - y.mean()) ** 2)\n",
    "r2_all = 1 - (ss_residual / ss_total)\n",
    "\n",
    "# calculating adjusted r2\n",
    "n = len(y_test)\n",
    "p = 3 # number of independant variables\n",
    "adjusted_r2_all = 1 - (((1 - r2_all) * (n - 1)) / (n - p - 1))\n",
    "\n",
    "print(\"R2 score for the model TV, Radio & News vs Sales - {:.5f}\".format(r2_all))\n",
    "print(\"Adjusted R2 score for the model TV, Radio & News vs Sales - {:.5f}\".format(adjusted_r2_all))"
   ]
  },
  {
   "cell_type": "markdown",
   "metadata": {},
   "source": [
    "Now we need to calculate r2 and adjusted r2 scores for the models TV vs Sales, Radio vs Sales and News vs Sales."
   ]
  },
  {
   "cell_type": "code",
   "execution_count": 54,
   "metadata": {},
   "outputs": [
    {
     "name": "stdout",
     "output_type": "stream",
     "text": [
      "R2 score for the model TV vs Sales - 0.47147\n",
      "Adjusted R2 score for the model TV vs Sales - 0.45756\n"
     ]
    }
   ],
   "source": [
    "# independent variable: TV\n",
    "X_train, X_test, y_train, y_test = train_test_split(\n",
    "                                   X[['TV']], y, test_size = 0.2, \n",
    "                                   shuffle = False)\n",
    "lr = LinearRegression()\n",
    "lr.fit(X_train, y_train)\n",
    "y_test_pred = lr.predict(X_test)\n",
    "\n",
    "# calculating r2\n",
    "y_arr = np.array(y)\n",
    "ss_explained = sum((y_test_pred - y_test.mean()) ** 2)\n",
    "ss_residual = sum((y_test - y_test_pred) ** 2)\n",
    "ss_total = sum((y_test - y.mean()) ** 2)\n",
    "r2_tv_sales = 1 - (ss_residual / ss_total)\n",
    "\n",
    "# calculating adjusted r2\n",
    "n = len(y_test)\n",
    "p = 1 # number of independant variables\n",
    "adjusted_r2_tv_sales = 1 - (((1 - r2_tv_sales) * (n - 1)) / (n - p - 1))\n",
    "\n",
    "print(\"R2 score for the model TV vs Sales - {:.5f}\".format(r2_tv_sales))\n",
    "print(\"Adjusted R2 score for the model TV vs Sales - {:.5f}\".format(adjusted_r2_tv_sales))"
   ]
  },
  {
   "cell_type": "code",
   "execution_count": 56,
   "metadata": {},
   "outputs": [
    {
     "name": "stdout",
     "output_type": "stream",
     "text": [
      "R2 score for the model Radio vs Sales - 0.45981\n",
      "Adjusted R2 score for the model Radio vs Sales - 0.44559\n"
     ]
    }
   ],
   "source": [
    "# independent variable: Radio\n",
    "X_train, X_test, y_train, y_test = train_test_split(\n",
    "                                   X[['Radio']], y, test_size = 0.2, \n",
    "                                   shuffle = False)\n",
    "lr = LinearRegression()\n",
    "lr.fit(X_train, y_train)\n",
    "y_test_pred = lr.predict(X_test)\n",
    "\n",
    "# calculating r2\n",
    "y_arr = np.array(y)\n",
    "ss_explained = sum((y_test_pred - y_test.mean()) ** 2)\n",
    "ss_residual = sum((y_test - y_test_pred) ** 2)\n",
    "ss_total = sum((y_test - y.mean()) ** 2)\n",
    "r2_radio_sales = 1 - (ss_residual / ss_total)\n",
    "\n",
    "# calculating adjusted r2\n",
    "n = len(y_test)\n",
    "p = 1 # number of independant variables\n",
    "adjusted_r2_radio_sales = 1 - (((1 - r2_radio_sales) * (n - 1)) / (n - p - 1))\n",
    "\n",
    "print(\"R2 score for the model Radio vs Sales - {:.5f}\".format(r2_radio_sales))\n",
    "print(\"Adjusted R2 score for the model Radio vs Sales - {:.5f}\".format(adjusted_r2_radio_sales))"
   ]
  },
  {
   "cell_type": "code",
   "execution_count": 58,
   "metadata": {},
   "outputs": [
    {
     "name": "stdout",
     "output_type": "stream",
     "text": [
      "R2 score for the model News vs Sales - 0.08893\n",
      "Adjusted R2 score for the model News vs Sales - 0.06496\n"
     ]
    }
   ],
   "source": [
    "# independent variable: News\n",
    "X_train, X_test, y_train, y_test = train_test_split(\n",
    "                                   X[['Newspaper']], y, test_size = 0.2, \n",
    "                                   shuffle = False)\n",
    "lr = LinearRegression()\n",
    "lr.fit(X_train, y_train)\n",
    "y_test_pred = lr.predict(X_test)\n",
    "\n",
    "# calculating r2\n",
    "y_arr = np.array(y)\n",
    "ss_explained = sum((y_test_pred - y_test.mean()) ** 2)\n",
    "ss_residual = sum((y_test - y_test_pred) ** 2)\n",
    "ss_total = sum((y_test - y.mean()) ** 2)\n",
    "r2_news_sales = 1 - (ss_residual / ss_total)\n",
    "\n",
    "# calculating adjusted r2\n",
    "n = len(y_test)\n",
    "p = 1 # number of independant variables\n",
    "adjusted_r2_news_sales = 1 - (((1 - r2_news_sales) * (n - 1)) / (n - p - 1))\n",
    "\n",
    "print(\"R2 score for the model News vs Sales - {:.5f}\".format(r2_news_sales))\n",
    "print(\"Adjusted R2 score for the model News vs Sales - {:.5f}\".format(adjusted_r2_news_sales))"
   ]
  },
  {
   "cell_type": "markdown",
   "metadata": {},
   "source": [
    "**Final Set of Values** <br>\n",
    "These will be the MSE train scores, MSE test scores, r2 scores and adjusted r2 scores for the following models: <br>\n",
    "1. TV vs Sales (Linear)\n",
    "2. Radio vs Sales (Linear)\n",
    "3. News vs Sales (Linear)\n",
    "4. TV & Radio vs Sales (Multi-Linear)\n",
    "5. Radio & News vs Sales (Multi-Linear)\n",
    "6. News & TV vs Sales (Multi-Linear)\n",
    "7. TV, Radio & News vs Sales (Multi-Linear)"
   ]
  },
  {
   "cell_type": "code",
   "execution_count": 60,
   "metadata": {},
   "outputs": [
    {
     "name": "stdout",
     "output_type": "stream",
     "text": [
      "TV vs SALES (Linear):\n",
      "\n",
      "MSE for Training (Sales vs TV) - 9.700\n",
      "MSE for Testing (Sales vs TV) - 14.129\n",
      "R2 score for the model TV vs Sales - 0.471\n",
      "Adjusted R2 score for the model TV vs Sales - 0.458\n",
      "\n",
      "x----------------------------------------------------------------x\n",
      "\n",
      "RADIO vs SALES (Linear):\n",
      "\n",
      "MSE for Training (Sales vs Radio) - 19.063\n",
      "MSE for Testing (Sales vs Radio) - 14.440\n",
      "R2 score for the model Radio vs Sales - 0.45981\n",
      "Adjusted R2 score for the model Radio vs Sales - 0.44559\n",
      "\n",
      "x----------------------------------------------------------------x\n",
      "\n",
      "NEWS vs SALES (Linear):\n",
      "\n",
      "MSE for Training (Sales vs News) - 26.027\n",
      "MSE for Testing (Sales vs News) - 24.355\n",
      "R2 score for the model News vs Sales - 0.08893\n",
      "Adjusted R2 score for the model News vs Sales - 0.06496\n",
      "\n",
      "x----------------------------------------------------------------x\n",
      "\n",
      "TV & RADIO vs SALES (Multi-Linear):\n",
      "\n",
      "MSE for TV, Radio & Sales (Training) - 2.82216\n",
      "MSE for TV, Radio & Sales (Testing) - 2.79309\n",
      "R2 score the model TV & Radio vs Sales - 0.89552\n",
      "Adjusted R2 score the model TV & Radio vs Sales - 0.88987\n",
      "\n",
      "x----------------------------------------------------------------x\n",
      "\n",
      "RADIO & NEWS vs SALES (Multi-Linear):\n",
      "\n",
      "MSE for Radio, News & Sales (Training) - 19.06327\n",
      "MSE for Radio, News & Sales (Testing) - 14.43136\n",
      "R2 score the model Radio & News vs Sales - 0.46015\n",
      "Adjusted R2 score the model Radio & News vs Sales - 0.43097\n",
      "\n",
      "x----------------------------------------------------------------x\n",
      "\n",
      "NEWS & TV vs SALES (Multi-Linear):\n",
      "\n",
      "MSE for News, TV & Sales (Training) - 8.77968\n",
      "MSE for News, TV & Sales (Testing) - 13.10335\n",
      "R2 score the model News & TV vs Sales - 0.50983\n",
      "Adjusted R2 score the model News & TV vs Sales - 0.48333\n",
      "\n",
      "x----------------------------------------------------------------x\n",
      "\n",
      "TV, RADIO & NEWS vs SALES (Multi-Linear):\n",
      "\n",
      "MSE for TV, Radio, News & Sales (Training) - 2.82179\n",
      "MSE for TV, Radio, News & Sales (Testing) - 2.79115\n",
      "R2 score for the model TV, Radio & News vs Sales - 0.89559\n",
      "Adjusted R2 score for the model TV, Radio & News vs Sales - 0.88689\n"
     ]
    }
   ],
   "source": [
    "# TV vs Sales - MSE train score, MSE test score, r2 score and adjusted r2 score\n",
    "print('TV vs SALES (Linear):')\n",
    "print()\n",
    "print(\"MSE for Training (Sales vs TV) - {:.3f}\".format(mse_train_tv))\n",
    "print(\"MSE for Testing (Sales vs TV) - {:.3f}\".format(mse_test_tv))\n",
    "print(\"R2 score for the model TV vs Sales - {:.3f}\".format(r2_tv_sales))\n",
    "print(\"Adjusted R2 score for the model TV vs Sales - {:.3f}\".format(adjusted_r2_tv_sales))\n",
    "print()\n",
    "print('x----------------------------------------------------------------x')\n",
    "print()\n",
    "\n",
    "# Radio vs Sales - MSE train score, MSE test score, r2 score and adjusted r2 score\n",
    "print('RADIO vs SALES (Linear):')\n",
    "print()\n",
    "print(\"MSE for Training (Sales vs Radio) - {:.3f}\".format(mse_train_radio))\n",
    "print(\"MSE for Testing (Sales vs Radio) - {:.3f}\".format(mse_test_radio))\n",
    "print(\"R2 score for the model Radio vs Sales - {:.5f}\".format(r2_radio_sales))\n",
    "print(\"Adjusted R2 score for the model Radio vs Sales - {:.5f}\".format(adjusted_r2_radio_sales))\n",
    "print()\n",
    "print('x----------------------------------------------------------------x')\n",
    "print()\n",
    "\n",
    "# News vs Sales - MSE train score, MSE test score, r2 score and adjusted r2 score\n",
    "print('NEWS vs SALES (Linear):')\n",
    "print()\n",
    "print(\"MSE for Training (Sales vs News) - {:.3f}\".format(mse_train_news))\n",
    "print(\"MSE for Testing (Sales vs News) - {:.3f}\".format(mse_test_news))\n",
    "print(\"R2 score for the model News vs Sales - {:.5f}\".format(r2_news_sales))\n",
    "print(\"Adjusted R2 score for the model News vs Sales - {:.5f}\".format(adjusted_r2_news_sales))\n",
    "print()\n",
    "print('x----------------------------------------------------------------x')\n",
    "print()\n",
    "\n",
    "# TV & Radio vs Sales - MSE train score, MSE test score, r2 score and adjusted r2 score\n",
    "print('TV & RADIO vs SALES (Multi-Linear):')\n",
    "print()\n",
    "print(\"MSE for TV, Radio & Sales (Training) - {:.5f}\".format(mse_train_tv_radio))\n",
    "print(\"MSE for TV, Radio & Sales (Testing) - {:.5f}\".format(mse_test_tv_radio))\n",
    "print(\"R2 score the model TV & Radio vs Sales - {:.5f}\".format(r2_1))\n",
    "print(\"Adjusted R2 score the model TV & Radio vs Sales - {:.5f}\".format(adjusted_r2_1))\n",
    "print()\n",
    "print('x----------------------------------------------------------------x')\n",
    "print()\n",
    "\n",
    "# Radio & News vs Sales - MSE train score, MSE test score, r2 score and adjusted r2 score\n",
    "print('RADIO & NEWS vs SALES (Multi-Linear):')\n",
    "print()\n",
    "print(\"MSE for Radio, News & Sales (Training) - {:.5f}\".format(mse_train_radio_news))\n",
    "print(\"MSE for Radio, News & Sales (Testing) - {:.5f}\".format(mse_test_radio_news))\n",
    "print(\"R2 score the model Radio & News vs Sales - {:.5f}\".format(r2_2))\n",
    "print(\"Adjusted R2 score the model Radio & News vs Sales - {:.5f}\".format(adjusted_r2_2))\n",
    "print()\n",
    "print('x----------------------------------------------------------------x')\n",
    "print()\n",
    "\n",
    "# News & TV vs Sales - MSE train score, MSE test score, r2 score and adjusted r2 score\n",
    "print('NEWS & TV vs SALES (Multi-Linear):')\n",
    "print()\n",
    "print(\"MSE for News, TV & Sales (Training) - {:.5f}\".format(mse_train_news_tv))\n",
    "print(\"MSE for News, TV & Sales (Testing) - {:.5f}\".format(mse_test_news_tv))\n",
    "print(\"R2 score the model News & TV vs Sales - {:.5f}\".format(r2_3))\n",
    "print(\"Adjusted R2 score the model News & TV vs Sales - {:.5f}\".format(adjusted_r2_3))\n",
    "print()\n",
    "print('x----------------------------------------------------------------x')\n",
    "print()\n",
    "\n",
    "# TV, Radio & News vs Sales - MSE train score, MSE test score, r2 score and adjusted r2 score\n",
    "print('TV, RADIO & NEWS vs SALES (Multi-Linear):')\n",
    "print()\n",
    "print(\"MSE for TV, Radio, News & Sales (Training) - {:.5f}\".format(mse_train))\n",
    "print(\"MSE for TV, Radio, News & Sales (Testing) - {:.5f}\".format(mse_test))\n",
    "print(\"R2 score for the model TV, Radio & News vs Sales - {:.5f}\".format(r2_all))\n",
    "print(\"Adjusted R2 score for the model TV, Radio & News vs Sales - {:.5f}\".format(adjusted_r2_all))"
   ]
  },
  {
   "cell_type": "markdown",
   "metadata": {},
   "source": [
    "From the outputs, we can infer that the mult-linear model with TV, Radio and Newspaper advertising is most accurate in terms of predicting Sales based on MSE values for train and test and R2, Adjusted-R2 values. A very close 2nd comes to the model with only TV and Radio advertising as the independent variables. In both the cases, its the multi-linear model that performs well."
   ]
  }
 ],
 "metadata": {
  "kernelspec": {
   "display_name": "Python (py310)",
   "language": "python",
   "name": "py310"
  },
  "language_info": {
   "codemirror_mode": {
    "name": "ipython",
    "version": 3
   },
   "file_extension": ".py",
   "mimetype": "text/x-python",
   "name": "python",
   "nbconvert_exporter": "python",
   "pygments_lexer": "ipython3",
   "version": "3.10.15"
  }
 },
 "nbformat": 4,
 "nbformat_minor": 4
}
